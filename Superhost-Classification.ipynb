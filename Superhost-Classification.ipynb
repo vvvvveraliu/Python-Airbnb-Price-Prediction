{
  "nbformat": 4,
  "nbformat_minor": 0,
  "metadata": {
    "colab": {
      "provenance": [],
      "collapsed_sections": [
        "TK_EpFemj-U7",
        "JNxhn3S8_D00",
        "VP6t_pxbj1kX",
        "Girai307jICb",
        "vASEM9jYjJPA",
        "bJC0Q49ASj7h",
        "S1TlYSfhIzYj",
        "XJl8rNGBQw1L",
        "mVWqSHvSQ2I_",
        "ceruTJmQI2gS",
        "ujJwTnbYYOnK",
        "iYFAbrkOYRIM",
        "XpyQDHI1OzWe",
        "QmmuVNkyYT1B",
        "XjL_hZFlYV_A",
        "gGGY8_QXRUF1",
        "K6iocc6lVM3d",
        "8wcFWQG2lW7T",
        "T4CHp4CLlghm",
        "4TdGOhvXgX-Q",
        "m5cYLeqx2dLX"
      ]
    },
    "kernelspec": {
      "name": "python3",
      "display_name": "Python 3"
    },
    "language_info": {
      "name": "python"
    }
  },
  "cells": [
    {
      "cell_type": "markdown",
      "source": [
        "# 1. data loading"
      ],
      "metadata": {
        "id": "TK_EpFemj-U7"
      }
    },
    {
      "cell_type": "code",
      "execution_count": null,
      "metadata": {
        "colab": {
          "base_uri": "https://localhost:8080/"
        },
        "id": "vvsdkIG06Kq-",
        "outputId": "e4ea2047-1b02-491f-842d-f90e468def6f"
      },
      "outputs": [
        {
          "output_type": "stream",
          "name": "stdout",
          "text": [
            "Drive already mounted at /content/drive; to attempt to forcibly remount, call drive.mount(\"/content/drive\", force_remount=True).\n"
          ]
        }
      ],
      "source": [
        "import matplotlib.pyplot as plt\n",
        "import numpy as np\n",
        "import pandas as pd\n",
        "\n",
        "from google.colab import drive\n",
        "from sklearn.preprocessing import OrdinalEncoder\n",
        "from sklearn.preprocessing import OneHotEncoder\n",
        "\n",
        "drive.mount('/content/drive')"
      ]
    },
    {
      "cell_type": "code",
      "source": [
        "pip install category_encoders"
      ],
      "metadata": {
        "colab": {
          "base_uri": "https://localhost:8080/"
        },
        "id": "SYawE5PIYx4z",
        "outputId": "4baa5c24-f74f-4018-a6ad-6fe88101ef68"
      },
      "execution_count": null,
      "outputs": [
        {
          "output_type": "stream",
          "name": "stdout",
          "text": [
            "Looking in indexes: https://pypi.org/simple, https://us-python.pkg.dev/colab-wheels/public/simple/\n",
            "Requirement already satisfied: category_encoders in /usr/local/lib/python3.8/dist-packages (2.5.1.post0)\n",
            "Requirement already satisfied: scikit-learn>=0.20.0 in /usr/local/lib/python3.8/dist-packages (from category_encoders) (1.0.2)\n",
            "Requirement already satisfied: numpy>=1.14.0 in /usr/local/lib/python3.8/dist-packages (from category_encoders) (1.21.6)\n",
            "Requirement already satisfied: statsmodels>=0.9.0 in /usr/local/lib/python3.8/dist-packages (from category_encoders) (0.12.2)\n",
            "Requirement already satisfied: pandas>=1.0.5 in /usr/local/lib/python3.8/dist-packages (from category_encoders) (1.3.5)\n",
            "Requirement already satisfied: patsy>=0.5.1 in /usr/local/lib/python3.8/dist-packages (from category_encoders) (0.5.3)\n",
            "Requirement already satisfied: scipy>=1.0.0 in /usr/local/lib/python3.8/dist-packages (from category_encoders) (1.7.3)\n",
            "Requirement already satisfied: pytz>=2017.3 in /usr/local/lib/python3.8/dist-packages (from pandas>=1.0.5->category_encoders) (2022.6)\n",
            "Requirement already satisfied: python-dateutil>=2.7.3 in /usr/local/lib/python3.8/dist-packages (from pandas>=1.0.5->category_encoders) (2.8.2)\n",
            "Requirement already satisfied: six in /usr/local/lib/python3.8/dist-packages (from patsy>=0.5.1->category_encoders) (1.15.0)\n",
            "Requirement already satisfied: threadpoolctl>=2.0.0 in /usr/local/lib/python3.8/dist-packages (from scikit-learn>=0.20.0->category_encoders) (3.1.0)\n",
            "Requirement already satisfied: joblib>=0.11 in /usr/local/lib/python3.8/dist-packages (from scikit-learn>=0.20.0->category_encoders) (1.2.0)\n"
          ]
        }
      ]
    },
    {
      "cell_type": "code",
      "source": [
        "data = pd.read_csv(\"/content/drive/MyDrive/listings_cols_removed.csv\")\n",
        "data"
      ],
      "metadata": {
        "colab": {
          "base_uri": "https://localhost:8080/"
        },
        "id": "LSzP9kpK7M7o",
        "outputId": "bade8681-180b-4265-cb36-32f7ecee5a98"
      },
      "execution_count": null,
      "outputs": [
        {
          "output_type": "stream",
          "name": "stderr",
          "text": [
            "/usr/local/lib/python3.8/dist-packages/IPython/core/interactiveshell.py:3326: DtypeWarning: Columns (42) have mixed types.Specify dtype option on import or set low_memory=False.\n",
            "  exec(code_obj, self.user_global_ns, self.user_ns)\n"
          ]
        },
        {
          "output_type": "execute_result",
          "data": {
            "text/plain": [
              "                                                    name  \\\n",
              "0                     Clean & quiet apt home by the park   \n",
              "1                                  Skylit Midtown Castle   \n",
              "2                                        BlissArtsSpace!   \n",
              "3                     Beautiful Queens Brownstone! - 5BR   \n",
              "4               Spacious Brooklyn Duplex, Patio + Garden   \n",
              "...                                                  ...   \n",
              "39876                  Private Modern House by The Beach   \n",
              "39877               Beautiful apartment - minutes to NYC   \n",
              "39878                1 Bedroom Basement, NEWLY Renovated   \n",
              "39879  Luxurious private waterfront terrace, 2BR 2BA Apt   \n",
              "39880           Just Blocks to Grove PATH and JC Med Ctr   \n",
              "\n",
              "                                             description  \\\n",
              "0      Renovated apt home in elevator building.<br />...   \n",
              "1      Beautiful, spacious skylit studio in the heart...   \n",
              "2      One room available for rent in a 2 bedroom apt...   \n",
              "3      <b>The space</b><br />Beautiful, fully furnish...   \n",
              "4      We welcome you to stay in our lovely 2 br dupl...   \n",
              "...                                                  ...   \n",
              "39876  Private modern house by the Beach with all com...   \n",
              "39877  Our apartment is straight across the river fro...   \n",
              "39878  With easy access to multiple bus stops and the...   \n",
              "39879  This two bed, two bath apartment overlooking t...   \n",
              "39880  Very convenient to the Grove St PATH (5 min wa...   \n",
              "\n",
              "                                   neighborhood_overview    host_id host_name  \\\n",
              "0        Close to Prospect Park and Historic Ditmas Park       2787      John   \n",
              "1      Centrally located in the heart of Manhattan ju...       2845  Jennifer   \n",
              "2                                                    NaN       7356     Garon   \n",
              "3                                                    NaN     204539      Mark   \n",
              "4                                                    NaN       7378   Rebecca   \n",
              "...                                                  ...        ...       ...   \n",
              "39876  Rockaway Beach is a neighborhood that gives it...   23049030     Ramón   \n",
              "39877  Our apartment is located in a very interesting...   48009648    Nathan   \n",
              "39878                                                NaN  371552251    Sheraz   \n",
              "39879                                                NaN  151487807     Asser   \n",
              "39880                                                NaN      46201         J   \n",
              "\n",
              "      host_since    host_location  \\\n",
              "0         9/7/08     New York, NY   \n",
              "1         9/9/08     New York, NY   \n",
              "2         2/3/09     New York, NY   \n",
              "3        8/17/10     New York, NY   \n",
              "4         2/3/09     New York, NY   \n",
              "...          ...              ...   \n",
              "39876   10/27/14     New York, NY   \n",
              "39877    11/2/15     New York, NY   \n",
              "39878   10/11/20  Floral Park, NY   \n",
              "39879    9/21/17     New York, NY   \n",
              "39880   10/16/09  Jersey City, NJ   \n",
              "\n",
              "                                              host_about  host_response_time  \\\n",
              "0      Educated professional living in Brooklyn.  I l...      within an hour   \n",
              "1      A New Yorker since (Phone number hidden by Air...        within a day   \n",
              "2       I am an artist(painter, filmmaker) and curato...      within an hour   \n",
              "3                          Father of two boys - 9 & 10.       within an hour   \n",
              "4      Rebecca is an artist/designer, and Henoch is i...                 NaN   \n",
              "...                                                  ...                 ...   \n",
              "39876                                                NaN      within an hour   \n",
              "39877                                                NaN      within an hour   \n",
              "39878                                                NaN      within an hour   \n",
              "39879                Management Consultant living in NYC                 NaN   \n",
              "39880                                                NaN  within a few hours   \n",
              "\n",
              "      host_response_rate  ... review_scores_communication  \\\n",
              "0                   100%  ...                        5.00   \n",
              "1                    75%  ...                        4.80   \n",
              "2                   100%  ...                        4.91   \n",
              "3                   100%  ...                        5.00   \n",
              "4                    NaN  ...                        5.00   \n",
              "...                  ...  ...                         ...   \n",
              "39876               100%  ...                        5.00   \n",
              "39877               100%  ...                        4.96   \n",
              "39878               100%  ...                        4.36   \n",
              "39879                NaN  ...                         NaN   \n",
              "39880               100%  ...                        4.73   \n",
              "\n",
              "      review_scores_location  review_scores_value  license instant_bookable  \\\n",
              "0                       4.75                 4.88      NaN                f   \n",
              "1                       4.81                 4.40      NaN                f   \n",
              "2                       4.47                 4.52      NaN                f   \n",
              "3                       4.82                 4.55      NaN                f   \n",
              "4                       4.67                 5.00      NaN                f   \n",
              "...                      ...                  ...      ...              ...   \n",
              "39876                   4.94                 4.88      NaN                f   \n",
              "39877                   4.81                 4.85      NaN                f   \n",
              "39878                   4.36                 4.55      NaN                t   \n",
              "39879                    NaN                  NaN      NaN                f   \n",
              "39880                   4.87                 4.47      NaN                f   \n",
              "\n",
              "      calculated_host_listings_count  \\\n",
              "0                                  9   \n",
              "1                                  3   \n",
              "2                                  2   \n",
              "3                                  6   \n",
              "4                                  1   \n",
              "...                              ...   \n",
              "39876                              1   \n",
              "39877                              1   \n",
              "39878                              1   \n",
              "39879                              1   \n",
              "39880                              1   \n",
              "\n",
              "      calculated_host_listings_count_entire_homes  \\\n",
              "0                                               1   \n",
              "1                                               3   \n",
              "2                                               0   \n",
              "3                                               6   \n",
              "4                                               1   \n",
              "...                                           ...   \n",
              "39876                                           1   \n",
              "39877                                           1   \n",
              "39878                                           1   \n",
              "39879                                           1   \n",
              "39880                                           0   \n",
              "\n",
              "      calculated_host_listings_count_private_rooms  \\\n",
              "0                                                6   \n",
              "1                                                0   \n",
              "2                                                2   \n",
              "3                                                0   \n",
              "4                                                0   \n",
              "...                                            ...   \n",
              "39876                                            0   \n",
              "39877                                            0   \n",
              "39878                                            0   \n",
              "39879                                            0   \n",
              "39880                                            1   \n",
              "\n",
              "      calculated_host_listings_count_shared_rooms reviews_per_month  \n",
              "0                                               2              0.11  \n",
              "1                                               0              0.31  \n",
              "2                                               0              0.31  \n",
              "3                                               0              0.10  \n",
              "4                                               0              0.03  \n",
              "...                                           ...               ...  \n",
              "39876                                           0              1.22  \n",
              "39877                                           0              2.12  \n",
              "39878                                           0              0.50  \n",
              "39879                                           0               NaN  \n",
              "39880                                           0              0.91  \n",
              "\n",
              "[39881 rows x 49 columns]"
            ],
            "text/html": [
              "\n",
              "  <div id=\"df-a3f6830d-7a63-4c52-ae64-517d9eb44ad3\">\n",
              "    <div class=\"colab-df-container\">\n",
              "      <div>\n",
              "<style scoped>\n",
              "    .dataframe tbody tr th:only-of-type {\n",
              "        vertical-align: middle;\n",
              "    }\n",
              "\n",
              "    .dataframe tbody tr th {\n",
              "        vertical-align: top;\n",
              "    }\n",
              "\n",
              "    .dataframe thead th {\n",
              "        text-align: right;\n",
              "    }\n",
              "</style>\n",
              "<table border=\"1\" class=\"dataframe\">\n",
              "  <thead>\n",
              "    <tr style=\"text-align: right;\">\n",
              "      <th></th>\n",
              "      <th>name</th>\n",
              "      <th>description</th>\n",
              "      <th>neighborhood_overview</th>\n",
              "      <th>host_id</th>\n",
              "      <th>host_name</th>\n",
              "      <th>host_since</th>\n",
              "      <th>host_location</th>\n",
              "      <th>host_about</th>\n",
              "      <th>host_response_time</th>\n",
              "      <th>host_response_rate</th>\n",
              "      <th>...</th>\n",
              "      <th>review_scores_communication</th>\n",
              "      <th>review_scores_location</th>\n",
              "      <th>review_scores_value</th>\n",
              "      <th>license</th>\n",
              "      <th>instant_bookable</th>\n",
              "      <th>calculated_host_listings_count</th>\n",
              "      <th>calculated_host_listings_count_entire_homes</th>\n",
              "      <th>calculated_host_listings_count_private_rooms</th>\n",
              "      <th>calculated_host_listings_count_shared_rooms</th>\n",
              "      <th>reviews_per_month</th>\n",
              "    </tr>\n",
              "  </thead>\n",
              "  <tbody>\n",
              "    <tr>\n",
              "      <th>0</th>\n",
              "      <td>Clean &amp; quiet apt home by the park</td>\n",
              "      <td>Renovated apt home in elevator building.&lt;br /&gt;...</td>\n",
              "      <td>Close to Prospect Park and Historic Ditmas Park</td>\n",
              "      <td>2787</td>\n",
              "      <td>John</td>\n",
              "      <td>9/7/08</td>\n",
              "      <td>New York, NY</td>\n",
              "      <td>Educated professional living in Brooklyn.  I l...</td>\n",
              "      <td>within an hour</td>\n",
              "      <td>100%</td>\n",
              "      <td>...</td>\n",
              "      <td>5.00</td>\n",
              "      <td>4.75</td>\n",
              "      <td>4.88</td>\n",
              "      <td>NaN</td>\n",
              "      <td>f</td>\n",
              "      <td>9</td>\n",
              "      <td>1</td>\n",
              "      <td>6</td>\n",
              "      <td>2</td>\n",
              "      <td>0.11</td>\n",
              "    </tr>\n",
              "    <tr>\n",
              "      <th>1</th>\n",
              "      <td>Skylit Midtown Castle</td>\n",
              "      <td>Beautiful, spacious skylit studio in the heart...</td>\n",
              "      <td>Centrally located in the heart of Manhattan ju...</td>\n",
              "      <td>2845</td>\n",
              "      <td>Jennifer</td>\n",
              "      <td>9/9/08</td>\n",
              "      <td>New York, NY</td>\n",
              "      <td>A New Yorker since (Phone number hidden by Air...</td>\n",
              "      <td>within a day</td>\n",
              "      <td>75%</td>\n",
              "      <td>...</td>\n",
              "      <td>4.80</td>\n",
              "      <td>4.81</td>\n",
              "      <td>4.40</td>\n",
              "      <td>NaN</td>\n",
              "      <td>f</td>\n",
              "      <td>3</td>\n",
              "      <td>3</td>\n",
              "      <td>0</td>\n",
              "      <td>0</td>\n",
              "      <td>0.31</td>\n",
              "    </tr>\n",
              "    <tr>\n",
              "      <th>2</th>\n",
              "      <td>BlissArtsSpace!</td>\n",
              "      <td>One room available for rent in a 2 bedroom apt...</td>\n",
              "      <td>NaN</td>\n",
              "      <td>7356</td>\n",
              "      <td>Garon</td>\n",
              "      <td>2/3/09</td>\n",
              "      <td>New York, NY</td>\n",
              "      <td>I am an artist(painter, filmmaker) and curato...</td>\n",
              "      <td>within an hour</td>\n",
              "      <td>100%</td>\n",
              "      <td>...</td>\n",
              "      <td>4.91</td>\n",
              "      <td>4.47</td>\n",
              "      <td>4.52</td>\n",
              "      <td>NaN</td>\n",
              "      <td>f</td>\n",
              "      <td>2</td>\n",
              "      <td>0</td>\n",
              "      <td>2</td>\n",
              "      <td>0</td>\n",
              "      <td>0.31</td>\n",
              "    </tr>\n",
              "    <tr>\n",
              "      <th>3</th>\n",
              "      <td>Beautiful Queens Brownstone! - 5BR</td>\n",
              "      <td>&lt;b&gt;The space&lt;/b&gt;&lt;br /&gt;Beautiful, fully furnish...</td>\n",
              "      <td>NaN</td>\n",
              "      <td>204539</td>\n",
              "      <td>Mark</td>\n",
              "      <td>8/17/10</td>\n",
              "      <td>New York, NY</td>\n",
              "      <td>Father of two boys - 9 &amp; 10.</td>\n",
              "      <td>within an hour</td>\n",
              "      <td>100%</td>\n",
              "      <td>...</td>\n",
              "      <td>5.00</td>\n",
              "      <td>4.82</td>\n",
              "      <td>4.55</td>\n",
              "      <td>NaN</td>\n",
              "      <td>f</td>\n",
              "      <td>6</td>\n",
              "      <td>6</td>\n",
              "      <td>0</td>\n",
              "      <td>0</td>\n",
              "      <td>0.10</td>\n",
              "    </tr>\n",
              "    <tr>\n",
              "      <th>4</th>\n",
              "      <td>Spacious Brooklyn Duplex, Patio + Garden</td>\n",
              "      <td>We welcome you to stay in our lovely 2 br dupl...</td>\n",
              "      <td>NaN</td>\n",
              "      <td>7378</td>\n",
              "      <td>Rebecca</td>\n",
              "      <td>2/3/09</td>\n",
              "      <td>New York, NY</td>\n",
              "      <td>Rebecca is an artist/designer, and Henoch is i...</td>\n",
              "      <td>NaN</td>\n",
              "      <td>NaN</td>\n",
              "      <td>...</td>\n",
              "      <td>5.00</td>\n",
              "      <td>4.67</td>\n",
              "      <td>5.00</td>\n",
              "      <td>NaN</td>\n",
              "      <td>f</td>\n",
              "      <td>1</td>\n",
              "      <td>1</td>\n",
              "      <td>0</td>\n",
              "      <td>0</td>\n",
              "      <td>0.03</td>\n",
              "    </tr>\n",
              "    <tr>\n",
              "      <th>...</th>\n",
              "      <td>...</td>\n",
              "      <td>...</td>\n",
              "      <td>...</td>\n",
              "      <td>...</td>\n",
              "      <td>...</td>\n",
              "      <td>...</td>\n",
              "      <td>...</td>\n",
              "      <td>...</td>\n",
              "      <td>...</td>\n",
              "      <td>...</td>\n",
              "      <td>...</td>\n",
              "      <td>...</td>\n",
              "      <td>...</td>\n",
              "      <td>...</td>\n",
              "      <td>...</td>\n",
              "      <td>...</td>\n",
              "      <td>...</td>\n",
              "      <td>...</td>\n",
              "      <td>...</td>\n",
              "      <td>...</td>\n",
              "      <td>...</td>\n",
              "    </tr>\n",
              "    <tr>\n",
              "      <th>39876</th>\n",
              "      <td>Private Modern House by The Beach</td>\n",
              "      <td>Private modern house by the Beach with all com...</td>\n",
              "      <td>Rockaway Beach is a neighborhood that gives it...</td>\n",
              "      <td>23049030</td>\n",
              "      <td>Ramón</td>\n",
              "      <td>10/27/14</td>\n",
              "      <td>New York, NY</td>\n",
              "      <td>NaN</td>\n",
              "      <td>within an hour</td>\n",
              "      <td>100%</td>\n",
              "      <td>...</td>\n",
              "      <td>5.00</td>\n",
              "      <td>4.94</td>\n",
              "      <td>4.88</td>\n",
              "      <td>NaN</td>\n",
              "      <td>f</td>\n",
              "      <td>1</td>\n",
              "      <td>1</td>\n",
              "      <td>0</td>\n",
              "      <td>0</td>\n",
              "      <td>1.22</td>\n",
              "    </tr>\n",
              "    <tr>\n",
              "      <th>39877</th>\n",
              "      <td>Beautiful apartment - minutes to NYC</td>\n",
              "      <td>Our apartment is straight across the river fro...</td>\n",
              "      <td>Our apartment is located in a very interesting...</td>\n",
              "      <td>48009648</td>\n",
              "      <td>Nathan</td>\n",
              "      <td>11/2/15</td>\n",
              "      <td>New York, NY</td>\n",
              "      <td>NaN</td>\n",
              "      <td>within an hour</td>\n",
              "      <td>100%</td>\n",
              "      <td>...</td>\n",
              "      <td>4.96</td>\n",
              "      <td>4.81</td>\n",
              "      <td>4.85</td>\n",
              "      <td>NaN</td>\n",
              "      <td>f</td>\n",
              "      <td>1</td>\n",
              "      <td>1</td>\n",
              "      <td>0</td>\n",
              "      <td>0</td>\n",
              "      <td>2.12</td>\n",
              "    </tr>\n",
              "    <tr>\n",
              "      <th>39878</th>\n",
              "      <td>1 Bedroom Basement, NEWLY Renovated</td>\n",
              "      <td>With easy access to multiple bus stops and the...</td>\n",
              "      <td>NaN</td>\n",
              "      <td>371552251</td>\n",
              "      <td>Sheraz</td>\n",
              "      <td>10/11/20</td>\n",
              "      <td>Floral Park, NY</td>\n",
              "      <td>NaN</td>\n",
              "      <td>within an hour</td>\n",
              "      <td>100%</td>\n",
              "      <td>...</td>\n",
              "      <td>4.36</td>\n",
              "      <td>4.36</td>\n",
              "      <td>4.55</td>\n",
              "      <td>NaN</td>\n",
              "      <td>t</td>\n",
              "      <td>1</td>\n",
              "      <td>1</td>\n",
              "      <td>0</td>\n",
              "      <td>0</td>\n",
              "      <td>0.50</td>\n",
              "    </tr>\n",
              "    <tr>\n",
              "      <th>39879</th>\n",
              "      <td>Luxurious private waterfront terrace, 2BR 2BA Apt</td>\n",
              "      <td>This two bed, two bath apartment overlooking t...</td>\n",
              "      <td>NaN</td>\n",
              "      <td>151487807</td>\n",
              "      <td>Asser</td>\n",
              "      <td>9/21/17</td>\n",
              "      <td>New York, NY</td>\n",
              "      <td>Management Consultant living in NYC</td>\n",
              "      <td>NaN</td>\n",
              "      <td>NaN</td>\n",
              "      <td>...</td>\n",
              "      <td>NaN</td>\n",
              "      <td>NaN</td>\n",
              "      <td>NaN</td>\n",
              "      <td>NaN</td>\n",
              "      <td>f</td>\n",
              "      <td>1</td>\n",
              "      <td>1</td>\n",
              "      <td>0</td>\n",
              "      <td>0</td>\n",
              "      <td>NaN</td>\n",
              "    </tr>\n",
              "    <tr>\n",
              "      <th>39880</th>\n",
              "      <td>Just Blocks to Grove PATH and JC Med Ctr</td>\n",
              "      <td>Very convenient to the Grove St PATH (5 min wa...</td>\n",
              "      <td>NaN</td>\n",
              "      <td>46201</td>\n",
              "      <td>J</td>\n",
              "      <td>10/16/09</td>\n",
              "      <td>Jersey City, NJ</td>\n",
              "      <td>NaN</td>\n",
              "      <td>within a few hours</td>\n",
              "      <td>100%</td>\n",
              "      <td>...</td>\n",
              "      <td>4.73</td>\n",
              "      <td>4.87</td>\n",
              "      <td>4.47</td>\n",
              "      <td>NaN</td>\n",
              "      <td>f</td>\n",
              "      <td>1</td>\n",
              "      <td>0</td>\n",
              "      <td>1</td>\n",
              "      <td>0</td>\n",
              "      <td>0.91</td>\n",
              "    </tr>\n",
              "  </tbody>\n",
              "</table>\n",
              "<p>39881 rows × 49 columns</p>\n",
              "</div>\n",
              "      <button class=\"colab-df-convert\" onclick=\"convertToInteractive('df-a3f6830d-7a63-4c52-ae64-517d9eb44ad3')\"\n",
              "              title=\"Convert this dataframe to an interactive table.\"\n",
              "              style=\"display:none;\">\n",
              "        \n",
              "  <svg xmlns=\"http://www.w3.org/2000/svg\" height=\"24px\"viewBox=\"0 0 24 24\"\n",
              "       width=\"24px\">\n",
              "    <path d=\"M0 0h24v24H0V0z\" fill=\"none\"/>\n",
              "    <path d=\"M18.56 5.44l.94 2.06.94-2.06 2.06-.94-2.06-.94-.94-2.06-.94 2.06-2.06.94zm-11 1L8.5 8.5l.94-2.06 2.06-.94-2.06-.94L8.5 2.5l-.94 2.06-2.06.94zm10 10l.94 2.06.94-2.06 2.06-.94-2.06-.94-.94-2.06-.94 2.06-2.06.94z\"/><path d=\"M17.41 7.96l-1.37-1.37c-.4-.4-.92-.59-1.43-.59-.52 0-1.04.2-1.43.59L10.3 9.45l-7.72 7.72c-.78.78-.78 2.05 0 2.83L4 21.41c.39.39.9.59 1.41.59.51 0 1.02-.2 1.41-.59l7.78-7.78 2.81-2.81c.8-.78.8-2.07 0-2.86zM5.41 20L4 18.59l7.72-7.72 1.47 1.35L5.41 20z\"/>\n",
              "  </svg>\n",
              "      </button>\n",
              "      \n",
              "  <style>\n",
              "    .colab-df-container {\n",
              "      display:flex;\n",
              "      flex-wrap:wrap;\n",
              "      gap: 12px;\n",
              "    }\n",
              "\n",
              "    .colab-df-convert {\n",
              "      background-color: #E8F0FE;\n",
              "      border: none;\n",
              "      border-radius: 50%;\n",
              "      cursor: pointer;\n",
              "      display: none;\n",
              "      fill: #1967D2;\n",
              "      height: 32px;\n",
              "      padding: 0 0 0 0;\n",
              "      width: 32px;\n",
              "    }\n",
              "\n",
              "    .colab-df-convert:hover {\n",
              "      background-color: #E2EBFA;\n",
              "      box-shadow: 0px 1px 2px rgba(60, 64, 67, 0.3), 0px 1px 3px 1px rgba(60, 64, 67, 0.15);\n",
              "      fill: #174EA6;\n",
              "    }\n",
              "\n",
              "    [theme=dark] .colab-df-convert {\n",
              "      background-color: #3B4455;\n",
              "      fill: #D2E3FC;\n",
              "    }\n",
              "\n",
              "    [theme=dark] .colab-df-convert:hover {\n",
              "      background-color: #434B5C;\n",
              "      box-shadow: 0px 1px 3px 1px rgba(0, 0, 0, 0.15);\n",
              "      filter: drop-shadow(0px 1px 2px rgba(0, 0, 0, 0.3));\n",
              "      fill: #FFFFFF;\n",
              "    }\n",
              "  </style>\n",
              "\n",
              "      <script>\n",
              "        const buttonEl =\n",
              "          document.querySelector('#df-a3f6830d-7a63-4c52-ae64-517d9eb44ad3 button.colab-df-convert');\n",
              "        buttonEl.style.display =\n",
              "          google.colab.kernel.accessAllowed ? 'block' : 'none';\n",
              "\n",
              "        async function convertToInteractive(key) {\n",
              "          const element = document.querySelector('#df-a3f6830d-7a63-4c52-ae64-517d9eb44ad3');\n",
              "          const dataTable =\n",
              "            await google.colab.kernel.invokeFunction('convertToInteractive',\n",
              "                                                     [key], {});\n",
              "          if (!dataTable) return;\n",
              "\n",
              "          const docLinkHtml = 'Like what you see? Visit the ' +\n",
              "            '<a target=\"_blank\" href=https://colab.research.google.com/notebooks/data_table.ipynb>data table notebook</a>'\n",
              "            + ' to learn more about interactive tables.';\n",
              "          element.innerHTML = '';\n",
              "          dataTable['output_type'] = 'display_data';\n",
              "          await google.colab.output.renderOutput(dataTable, element);\n",
              "          const docLink = document.createElement('div');\n",
              "          docLink.innerHTML = docLinkHtml;\n",
              "          element.appendChild(docLink);\n",
              "        }\n",
              "      </script>\n",
              "    </div>\n",
              "  </div>\n",
              "  "
            ]
          },
          "metadata": {},
          "execution_count": 77
        }
      ]
    },
    {
      "cell_type": "markdown",
      "source": [
        "# 2. data cleaning"
      ],
      "metadata": {
        "id": "JNxhn3S8_D00"
      }
    },
    {
      "cell_type": "code",
      "source": [
        "data.isnull().sum()"
      ],
      "metadata": {
        "id": "xIBAFGrx_GCN",
        "colab": {
          "base_uri": "https://localhost:8080/"
        },
        "outputId": "32ec7abf-56d9-45c6-b8c8-47f1605025ff"
      },
      "execution_count": null,
      "outputs": [
        {
          "output_type": "execute_result",
          "data": {
            "text/plain": [
              "name                                               13\n",
              "description                                       845\n",
              "neighborhood_overview                           16415\n",
              "host_id                                             0\n",
              "host_name                                          50\n",
              "host_since                                         50\n",
              "host_location                                    6883\n",
              "host_about                                      17372\n",
              "host_response_time                              13548\n",
              "host_response_rate                              13548\n",
              "host_acceptance_rate                            11861\n",
              "host_is_superhost                                  29\n",
              "host_listings_count                                50\n",
              "host_total_listings_count                          50\n",
              "host_verifications                                  0\n",
              "host_has_profile_pic                               50\n",
              "host_identity_verified                             50\n",
              "neighbourhood_cleansed                              0\n",
              "neighbourhood_group_cleansed                        0\n",
              "property_type                                       0\n",
              "room_type                                           0\n",
              "accommodates                                        0\n",
              "bathrooms                                       39881\n",
              "bathrooms_text                                     84\n",
              "bedrooms                                         3783\n",
              "beds                                              884\n",
              "amenities                                           0\n",
              "price                                               0\n",
              "minimum_nights                                      0\n",
              "maximum_nights                                      0\n",
              "minimum_nights_avg_ntm                             14\n",
              "maximum_nights_avg_ntm                             14\n",
              "number_of_reviews                                   0\n",
              "number_of_reviews_ltm                               0\n",
              "number_of_reviews_l30d                              0\n",
              "review_scores_rating                             8362\n",
              "review_scores_accuracy                           8825\n",
              "review_scores_cleanliness                        8815\n",
              "review_scores_checkin                            8829\n",
              "review_scores_communication                      8820\n",
              "review_scores_location                           8832\n",
              "review_scores_value                              8832\n",
              "license                                         39876\n",
              "instant_bookable                                    0\n",
              "calculated_host_listings_count                      0\n",
              "calculated_host_listings_count_entire_homes         0\n",
              "calculated_host_listings_count_private_rooms        0\n",
              "calculated_host_listings_count_shared_rooms         0\n",
              "reviews_per_month                                8362\n",
              "dtype: int64"
            ]
          },
          "metadata": {},
          "execution_count": 78
        }
      ]
    },
    {
      "cell_type": "code",
      "source": [
        "# Drop columns\n",
        "unused_cols = [\"host_name\", \"host_listings_count\", \"host_total_listings_count\", \"review_scores_rating\",\n",
        "               \"bathrooms\", \"bedrooms\", \"beds\", \"minimum_nights_avg_ntm\", \"maximum_nights_avg_ntm\",\n",
        "               \"number_of_reviews_ltm\", \"license\"]\n",
        "data.drop(columns = unused_cols, inplace = True)"
      ],
      "metadata": {
        "id": "6f3wHmCv-iMO"
      },
      "execution_count": null,
      "outputs": []
    },
    {
      "cell_type": "code",
      "source": [
        "# Filter rows (after parsing `price`) and drop necessary NaN's\n",
        "data['price'] = data['price'].replace('[\\$,]', '', regex = True).astype(float)\n",
        "data = data[data.price <= 1500]\n",
        "data = data[data.price > 10]\n",
        "data = data[data.accommodates > 0]\n",
        "data.dropna(subset = [\"bathrooms_text\"], inplace = True)"
      ],
      "metadata": {
        "id": "olZJiKYWz28u"
      },
      "execution_count": null,
      "outputs": []
    },
    {
      "cell_type": "code",
      "source": [
        "# Parse boolean columns\n",
        "data.host_has_profile_pic = data.host_has_profile_pic == \"t\"\n",
        "data.host_identity_verified = data.host_identity_verified == \"t\"\n",
        "data.host_is_superhost = data.host_is_superhost == \"t\"\n",
        "data.instant_bookable = data.instant_bookable == \"t\"\n",
        "data[\"host_loc_nyc\"] = data.host_location == \"New York, NY\""
      ],
      "metadata": {
        "id": "arbRf9RIzPBG"
      },
      "execution_count": null,
      "outputs": []
    },
    {
      "cell_type": "code",
      "source": [
        "# Encode `host_response_rate`\n",
        "oe = OrdinalEncoder(\n",
        "    categories = [[\"within an hour\", \"within a few hours\", \"within a day\", \"a few days or more\"]],\n",
        "    handle_unknown = \"use_encoded_value\", unknown_value = 4\n",
        ")\n",
        "data[\"host_response_time\"] = oe.fit_transform(data.loc[:, [\"host_response_time\"]])"
      ],
      "metadata": {
        "id": "oouzs9N2_2hY"
      },
      "execution_count": null,
      "outputs": []
    },
    {
      "cell_type": "code",
      "source": [
        "# Parse float columns\n",
        "data[\"host_response_rate\"] = data[\"host_response_rate\"].str.replace(\"%\", \"\").astype(float) / 100\n",
        "data[\"host_acceptance_rate\"] = data[\"host_acceptance_rate\"].str.replace(\"%\", \"\").astype(float) / 100"
      ],
      "metadata": {
        "id": "MR-4xF1p0eG1"
      },
      "execution_count": null,
      "outputs": []
    },
    {
      "cell_type": "code",
      "source": [
        "# The `bathrooms_text` of half-baths does not start with numbers\n",
        "print(data.bathrooms_text[~data[\"bathrooms_text\"].str.contains(\"^\\d\")])"
      ],
      "metadata": {
        "colab": {
          "base_uri": "https://localhost:8080/"
        },
        "id": "ZFv0o8Ra2Rqr",
        "outputId": "f58b7d9e-eff4-431a-e688-2c9191e040f6"
      },
      "execution_count": null,
      "outputs": [
        {
          "output_type": "stream",
          "name": "stdout",
          "text": [
            "73        Shared half-bath\n",
            "145              Half-bath\n",
            "172              Half-bath\n",
            "297      Private half-bath\n",
            "343       Shared half-bath\n",
            "               ...        \n",
            "38278            Half-bath\n",
            "38790     Shared half-bath\n",
            "39040     Shared half-bath\n",
            "39239            Half-bath\n",
            "39269            Half-bath\n",
            "Name: bathrooms_text, Length: 72, dtype: object\n"
          ]
        }
      ]
    },
    {
      "cell_type": "code",
      "source": [
        "# We extract floating point numbers first and fill NaN's with 0.5 later\n",
        "data[\"bath_num\"] = data[\"bathrooms_text\"].str.extract(\"^(\\d+(\\.\\d)?)\")[0].astype(float)\n",
        "data[\"bath_private\"] = ~data[\"bathrooms_text\"].str.contains(\"shared\", case = False)"
      ],
      "metadata": {
        "id": "ovXjsrCZq8p1"
      },
      "execution_count": null,
      "outputs": []
    },
    {
      "cell_type": "code",
      "source": [
        "# Check the outputs\n",
        "print(data[\"bath_num\"])\n",
        "print(data[\"bath_private\"])"
      ],
      "metadata": {
        "colab": {
          "base_uri": "https://localhost:8080/"
        },
        "id": "n23VvWmc9n4e",
        "outputId": "58a17135-7b43-4d55-ad2e-48f66b250bcb"
      },
      "execution_count": null,
      "outputs": [
        {
          "output_type": "stream",
          "name": "stdout",
          "text": [
            "0        1.0\n",
            "1        1.0\n",
            "3        2.5\n",
            "4        1.5\n",
            "5        1.0\n",
            "        ... \n",
            "39876    1.0\n",
            "39877    1.0\n",
            "39878    1.0\n",
            "39879    2.0\n",
            "39880    1.0\n",
            "Name: bath_num, Length: 39560, dtype: float64\n",
            "0        False\n",
            "1         True\n",
            "3         True\n",
            "4         True\n",
            "5        False\n",
            "         ...  \n",
            "39876     True\n",
            "39877     True\n",
            "39878     True\n",
            "39879     True\n",
            "39880    False\n",
            "Name: bath_private, Length: 39560, dtype: bool\n"
          ]
        }
      ]
    },
    {
      "cell_type": "code",
      "source": [
        "# Fill NaN values\n",
        "na_fill_vals = {\n",
        "    \"host_response_rate\": data[\"host_response_rate\"].mean(),\n",
        "    \"host_acceptance_rate\": data[\"host_acceptance_rate\"].mean(),\n",
        "    \"reviews_per_month\": 0,\n",
        "    \"bath_num\": 0.5\n",
        "}\n",
        "\n",
        "for col_name in data.columns:\n",
        "    if col_name.startswith(\"review_scores_\"):\n",
        "        na_fill_vals[col_name] = data[col_name].mean()\n",
        "\n",
        "print(na_fill_vals)\n",
        "data.fillna(na_fill_vals, inplace = True)"
      ],
      "metadata": {
        "colab": {
          "base_uri": "https://localhost:8080/"
        },
        "id": "bBjejMBWq_iF",
        "outputId": "c1f52095-dc3b-46d0-922c-3ca1a840cd46"
      },
      "execution_count": null,
      "outputs": [
        {
          "output_type": "stream",
          "name": "stdout",
          "text": [
            "{'host_response_rate': 0.9373014900218333, 'host_acceptance_rate': 0.8242611041179645, 'reviews_per_month': 0, 'bath_num': 0.5, 'review_scores_accuracy': 4.751651290019747, 'review_scores_cleanliness': 4.632421604478819, 'review_scores_checkin': 4.815941658302846, 'review_scores_communication': 4.810256343863284, 'review_scores_location': 4.741934334930709, 'review_scores_value': 4.651810322497085}\n"
          ]
        }
      ]
    },
    {
      "cell_type": "code",
      "source": [
        "# Split `host_verification` column into 3 columns, each indicating a method of contact\n",
        "data_verify = data.host_verifications.str.split(\"', '|\\['|']\", expand = True)\n",
        "data_verify.drop(columns = [0, 4], inplace = True)\n",
        "data_verify.rename(columns = {1: \"email\", 2: \"phone\", 3: \"work_email\"}, inplace = True)\n",
        "data_verify = data_verify != \"\"\n",
        "print(data_verify)\n",
        "data = pd.concat([data, data_verify], axis = 1)"
      ],
      "metadata": {
        "colab": {
          "base_uri": "https://localhost:8080/"
        },
        "id": "ZBB79k6RrCDU",
        "outputId": "ae39d25d-6a72-4868-c1cb-756b92a9fbdd"
      },
      "execution_count": null,
      "outputs": [
        {
          "output_type": "stream",
          "name": "stdout",
          "text": [
            "       email  phone  work_email\n",
            "0       True   True       False\n",
            "1       True   True        True\n",
            "3       True   True       False\n",
            "4       True   True       False\n",
            "5       True   True       False\n",
            "...      ...    ...         ...\n",
            "39876   True   True        True\n",
            "39877   True   True        True\n",
            "39878   True  False        True\n",
            "39879   True   True       False\n",
            "39880   True   True       False\n",
            "\n",
            "[39560 rows x 3 columns]\n"
          ]
        }
      ]
    },
    {
      "cell_type": "code",
      "source": [
        "# Categorize `minimum_nights` and `maximum_nights`\n",
        "data[\"short_term\"] = data.minimum_nights <= 7\n",
        "data[\"long_term\"] = data.maximum_nights >= 60\n",
        "print(data[\"short_term\"])\n",
        "print(data[\"long_term\"])"
      ],
      "metadata": {
        "id": "rVYM3VpAKo_z",
        "colab": {
          "base_uri": "https://localhost:8080/"
        },
        "outputId": "d167aa92-1ad2-48a7-bd7a-ef517afbc95f"
      },
      "execution_count": null,
      "outputs": [
        {
          "output_type": "stream",
          "name": "stdout",
          "text": [
            "0        False\n",
            "1        False\n",
            "3        False\n",
            "4        False\n",
            "5        False\n",
            "         ...  \n",
            "39876     True\n",
            "39877     True\n",
            "39878     True\n",
            "39879    False\n",
            "39880     True\n",
            "Name: short_term, Length: 39560, dtype: bool\n",
            "0         True\n",
            "1         True\n",
            "3         True\n",
            "4         True\n",
            "5        False\n",
            "         ...  \n",
            "39876    False\n",
            "39877     True\n",
            "39878    False\n",
            "39879     True\n",
            "39880     True\n",
            "Name: long_term, Length: 39560, dtype: bool\n"
          ]
        }
      ]
    },
    {
      "cell_type": "code",
      "source": [
        "# Drop trailing columns that have been processed\n",
        "unused_cols_new = [\"bathrooms_text\", \"email\", \"host_verifications\", \"host_location\", \"minimum_nights\",\n",
        "                   \"maximum_nights\", \"property_type\"]\n",
        "data.drop(columns = unused_cols_new, inplace = True)"
      ],
      "metadata": {
        "id": "_CRUa4zIrTg6"
      },
      "execution_count": null,
      "outputs": []
    },
    {
      "cell_type": "code",
      "source": [
        "# Encoding for neighbourhood_cleansed, neighbourhood_group_cleansed, room_type\n",
        "# Remove text columns: \"name\", \"description\", \"neighborhood_overview\", \"host_about\", \"amenities\"\n",
        "from category_encoders import TargetEncoder\n",
        "\n",
        "te = TargetEncoder(cols=['neighbourhood_cleansed']).fit(data, data['price'])\n",
        "data = te.transform(data)\n",
        "\n",
        "def onehotencoder(dataset,cn):\n",
        "  X=dataset[cn].values\n",
        "  X=X.reshape(len(X),1)\n",
        "  enc = OneHotEncoder()\n",
        "  enc.fit(X)\n",
        "  X_enc = enc.transform(X)\n",
        "  X_enc=X_enc.toarray()\n",
        "  return X_enc\n",
        "\n",
        "encoded = onehotencoder(data,'room_type')\n",
        "for i in range((encoded.shape[1])):\n",
        "  new_name=('room_type'+str(i))\n",
        "  data[new_name]=encoded[:,i]\n",
        "\n",
        "encoded = onehotencoder(data,'neighbourhood_group_cleansed')\n",
        "for i in range((encoded.shape[1])):\n",
        "  new_name=('neighbourhood_group_cleansed'+str(i))\n",
        "  data[new_name]=encoded[:,i]\n",
        "\n",
        "unused_cols = [\"neighbourhood_group_cleansed\", \"room_type\", \"name\", \"description\", \"neighborhood_overview\", \"host_about\", \"amenities\"]\n",
        "data.drop(columns = unused_cols, inplace = True)"
      ],
      "metadata": {
        "id": "qDDt0cJpGoWc",
        "colab": {
          "base_uri": "https://localhost:8080/"
        },
        "outputId": "34ad8de9-fc85-41c9-8239-1fd074c3bcdc"
      },
      "execution_count": null,
      "outputs": [
        {
          "output_type": "stream",
          "name": "stderr",
          "text": [
            "/usr/local/lib/python3.8/dist-packages/category_encoders/target_encoder.py:122: FutureWarning: Default parameter min_samples_leaf will change in version 2.6.See https://github.com/scikit-learn-contrib/category_encoders/issues/327\n",
            "  warnings.warn(\"Default parameter min_samples_leaf will change in version 2.6.\"\n",
            "/usr/local/lib/python3.8/dist-packages/category_encoders/target_encoder.py:127: FutureWarning: Default parameter smoothing will change in version 2.6.See https://github.com/scikit-learn-contrib/category_encoders/issues/327\n",
            "  warnings.warn(\"Default parameter smoothing will change in version 2.6.\"\n"
          ]
        }
      ]
    },
    {
      "cell_type": "code",
      "source": [
        "# Encoding host_since from date to months_since\n",
        "\n",
        "from datetime import datetime\n",
        "data['host_since']=np.ceil(-(pd.to_datetime(data.host_since,format='%m/%d/%y')-np.full(fill_value=pd.Timestamp(datetime.now()).today(),shape=len(data)))/np.timedelta64(1,'M'))\n",
        "data.host_since.fillna(value=data.host_since.mean(),inplace=True)\n",
        "\n",
        "data_copy_nn = data.copy()"
      ],
      "metadata": {
        "colab": {
          "base_uri": "https://localhost:8080/"
        },
        "id": "bBQuyCwmQXx_",
        "outputId": "ba5340b2-8ab9-456a-8575-3c063e332c28"
      },
      "execution_count": null,
      "outputs": [
        {
          "output_type": "stream",
          "name": "stderr",
          "text": [
            "/usr/local/lib/python3.8/dist-packages/pandas/core/arrays/datetimelike.py:1187: PerformanceWarning: Adding/subtracting object-dtype array to DatetimeArray not vectorized\n",
            "  warnings.warn(\n"
          ]
        }
      ]
    },
    {
      "cell_type": "markdown",
      "source": [
        "# 3. feature Selection"
      ],
      "metadata": {
        "id": "VP6t_pxbj1kX"
      }
    },
    {
      "cell_type": "code",
      "source": [
        "to_drop=[]\n",
        "d=data.corr().host_is_superhost\n",
        "for i in range(len(d)):\n",
        "    if abs(d[i]) <= 0.1:\n",
        "          to_drop.append(data.columns[i])\n",
        "dr=['host_id']\n",
        "for i,a in enumerate(to_drop):\n",
        "  if a[0:4]!='host':\n",
        "    dr.append(a)\n",
        "data=data.drop(columns=dr)\n",
        "data"
      ],
      "metadata": {
        "colab": {
          "base_uri": "https://localhost:8080/"
        },
        "id": "_FoYDUKgjN7i",
        "outputId": "a2ca9355-33ae-4fde-b83e-7fc10c46c47f"
      },
      "execution_count": null,
      "outputs": [
        {
          "output_type": "execute_result",
          "data": {
            "text/plain": [
              "       host_since  host_response_time  host_response_rate  \\\n",
              "0           171.0                 0.0            1.000000   \n",
              "1           171.0                 2.0            0.750000   \n",
              "3           148.0                 0.0            1.000000   \n",
              "4           167.0                 4.0            0.937301   \n",
              "5           148.0                 4.0            0.937301   \n",
              "...           ...                 ...                 ...   \n",
              "39876        98.0                 0.0            1.000000   \n",
              "39877        86.0                 0.0            1.000000   \n",
              "39878        26.0                 0.0            1.000000   \n",
              "39879        63.0                 4.0            0.937301   \n",
              "39880       158.0                 1.0            1.000000   \n",
              "\n",
              "       host_acceptance_rate  host_is_superhost  host_has_profile_pic  \\\n",
              "0                  0.900000              False                  True   \n",
              "1                  0.230000              False                  True   \n",
              "3                  0.190000              False                  True   \n",
              "4                  0.330000              False                  True   \n",
              "5                  0.824261              False                  True   \n",
              "...                     ...                ...                   ...   \n",
              "39876              0.940000              False                  True   \n",
              "39877              0.960000               True                  True   \n",
              "39878              0.710000              False                  True   \n",
              "39879              0.824261              False                  True   \n",
              "39880              0.460000              False                  True   \n",
              "\n",
              "       host_identity_verified  number_of_reviews  number_of_reviews_l30d  \\\n",
              "0                        True                  9                       0   \n",
              "1                        True                 49                       0   \n",
              "3                        True                 13                       0   \n",
              "4                        True                  3                       1   \n",
              "5                       False                  0                       0   \n",
              "...                       ...                ...                     ...   \n",
              "39876                    True                 33                       4   \n",
              "39877                    True                 52                       2   \n",
              "39878                    True                 11                       1   \n",
              "39879                    True                  0                       0   \n",
              "39880                    True                 15                       0   \n",
              "\n",
              "       review_scores_accuracy  review_scores_cleanliness  \\\n",
              "0                    4.880000                   5.000000   \n",
              "1                    4.730000                   4.630000   \n",
              "3                    4.640000                   4.360000   \n",
              "4                    5.000000                   5.000000   \n",
              "5                    4.751651                   4.632422   \n",
              "...                       ...                        ...   \n",
              "39876                4.970000                   4.880000   \n",
              "39877                4.920000                   4.750000   \n",
              "39878                4.640000                   4.270000   \n",
              "39879                4.751651                   4.632422   \n",
              "39880                4.730000                   4.530000   \n",
              "\n",
              "       review_scores_checkin  review_scores_communication  \\\n",
              "0                   5.000000                     5.000000   \n",
              "1                   4.770000                     4.800000   \n",
              "3                   4.820000                     5.000000   \n",
              "4                   5.000000                     5.000000   \n",
              "5                   4.815942                     4.810256   \n",
              "...                      ...                          ...   \n",
              "39876               4.970000                     5.000000   \n",
              "39877               5.000000                     4.960000   \n",
              "39878               4.640000                     4.360000   \n",
              "39879               4.815942                     4.810256   \n",
              "39880               4.670000                     4.730000   \n",
              "\n",
              "       review_scores_value  calculated_host_listings_count_private_rooms  \\\n",
              "0                  4.88000                                             6   \n",
              "1                  4.40000                                             0   \n",
              "3                  4.55000                                             0   \n",
              "4                  5.00000                                             0   \n",
              "5                  4.65181                                             1   \n",
              "...                    ...                                           ...   \n",
              "39876              4.88000                                             0   \n",
              "39877              4.85000                                             0   \n",
              "39878              4.55000                                             0   \n",
              "39879              4.65181                                             0   \n",
              "39880              4.47000                                             1   \n",
              "\n",
              "       reviews_per_month  host_loc_nyc  short_term  \n",
              "0                   0.11          True       False  \n",
              "1                   0.31          True       False  \n",
              "3                   0.10          True       False  \n",
              "4                   0.03          True       False  \n",
              "5                   0.00         False       False  \n",
              "...                  ...           ...         ...  \n",
              "39876               1.22          True        True  \n",
              "39877               2.12          True        True  \n",
              "39878               0.50         False        True  \n",
              "39879               0.00          True       False  \n",
              "39880               0.91         False        True  \n",
              "\n",
              "[39560 rows x 18 columns]"
            ],
            "text/html": [
              "\n",
              "  <div id=\"df-6c715715-a3b8-4e37-85c0-b8e27b077a9a\">\n",
              "    <div class=\"colab-df-container\">\n",
              "      <div>\n",
              "<style scoped>\n",
              "    .dataframe tbody tr th:only-of-type {\n",
              "        vertical-align: middle;\n",
              "    }\n",
              "\n",
              "    .dataframe tbody tr th {\n",
              "        vertical-align: top;\n",
              "    }\n",
              "\n",
              "    .dataframe thead th {\n",
              "        text-align: right;\n",
              "    }\n",
              "</style>\n",
              "<table border=\"1\" class=\"dataframe\">\n",
              "  <thead>\n",
              "    <tr style=\"text-align: right;\">\n",
              "      <th></th>\n",
              "      <th>host_since</th>\n",
              "      <th>host_response_time</th>\n",
              "      <th>host_response_rate</th>\n",
              "      <th>host_acceptance_rate</th>\n",
              "      <th>host_is_superhost</th>\n",
              "      <th>host_has_profile_pic</th>\n",
              "      <th>host_identity_verified</th>\n",
              "      <th>number_of_reviews</th>\n",
              "      <th>number_of_reviews_l30d</th>\n",
              "      <th>review_scores_accuracy</th>\n",
              "      <th>review_scores_cleanliness</th>\n",
              "      <th>review_scores_checkin</th>\n",
              "      <th>review_scores_communication</th>\n",
              "      <th>review_scores_value</th>\n",
              "      <th>calculated_host_listings_count_private_rooms</th>\n",
              "      <th>reviews_per_month</th>\n",
              "      <th>host_loc_nyc</th>\n",
              "      <th>short_term</th>\n",
              "    </tr>\n",
              "  </thead>\n",
              "  <tbody>\n",
              "    <tr>\n",
              "      <th>0</th>\n",
              "      <td>171.0</td>\n",
              "      <td>0.0</td>\n",
              "      <td>1.000000</td>\n",
              "      <td>0.900000</td>\n",
              "      <td>False</td>\n",
              "      <td>True</td>\n",
              "      <td>True</td>\n",
              "      <td>9</td>\n",
              "      <td>0</td>\n",
              "      <td>4.880000</td>\n",
              "      <td>5.000000</td>\n",
              "      <td>5.000000</td>\n",
              "      <td>5.000000</td>\n",
              "      <td>4.88000</td>\n",
              "      <td>6</td>\n",
              "      <td>0.11</td>\n",
              "      <td>True</td>\n",
              "      <td>False</td>\n",
              "    </tr>\n",
              "    <tr>\n",
              "      <th>1</th>\n",
              "      <td>171.0</td>\n",
              "      <td>2.0</td>\n",
              "      <td>0.750000</td>\n",
              "      <td>0.230000</td>\n",
              "      <td>False</td>\n",
              "      <td>True</td>\n",
              "      <td>True</td>\n",
              "      <td>49</td>\n",
              "      <td>0</td>\n",
              "      <td>4.730000</td>\n",
              "      <td>4.630000</td>\n",
              "      <td>4.770000</td>\n",
              "      <td>4.800000</td>\n",
              "      <td>4.40000</td>\n",
              "      <td>0</td>\n",
              "      <td>0.31</td>\n",
              "      <td>True</td>\n",
              "      <td>False</td>\n",
              "    </tr>\n",
              "    <tr>\n",
              "      <th>3</th>\n",
              "      <td>148.0</td>\n",
              "      <td>0.0</td>\n",
              "      <td>1.000000</td>\n",
              "      <td>0.190000</td>\n",
              "      <td>False</td>\n",
              "      <td>True</td>\n",
              "      <td>True</td>\n",
              "      <td>13</td>\n",
              "      <td>0</td>\n",
              "      <td>4.640000</td>\n",
              "      <td>4.360000</td>\n",
              "      <td>4.820000</td>\n",
              "      <td>5.000000</td>\n",
              "      <td>4.55000</td>\n",
              "      <td>0</td>\n",
              "      <td>0.10</td>\n",
              "      <td>True</td>\n",
              "      <td>False</td>\n",
              "    </tr>\n",
              "    <tr>\n",
              "      <th>4</th>\n",
              "      <td>167.0</td>\n",
              "      <td>4.0</td>\n",
              "      <td>0.937301</td>\n",
              "      <td>0.330000</td>\n",
              "      <td>False</td>\n",
              "      <td>True</td>\n",
              "      <td>True</td>\n",
              "      <td>3</td>\n",
              "      <td>1</td>\n",
              "      <td>5.000000</td>\n",
              "      <td>5.000000</td>\n",
              "      <td>5.000000</td>\n",
              "      <td>5.000000</td>\n",
              "      <td>5.00000</td>\n",
              "      <td>0</td>\n",
              "      <td>0.03</td>\n",
              "      <td>True</td>\n",
              "      <td>False</td>\n",
              "    </tr>\n",
              "    <tr>\n",
              "      <th>5</th>\n",
              "      <td>148.0</td>\n",
              "      <td>4.0</td>\n",
              "      <td>0.937301</td>\n",
              "      <td>0.824261</td>\n",
              "      <td>False</td>\n",
              "      <td>True</td>\n",
              "      <td>False</td>\n",
              "      <td>0</td>\n",
              "      <td>0</td>\n",
              "      <td>4.751651</td>\n",
              "      <td>4.632422</td>\n",
              "      <td>4.815942</td>\n",
              "      <td>4.810256</td>\n",
              "      <td>4.65181</td>\n",
              "      <td>1</td>\n",
              "      <td>0.00</td>\n",
              "      <td>False</td>\n",
              "      <td>False</td>\n",
              "    </tr>\n",
              "    <tr>\n",
              "      <th>...</th>\n",
              "      <td>...</td>\n",
              "      <td>...</td>\n",
              "      <td>...</td>\n",
              "      <td>...</td>\n",
              "      <td>...</td>\n",
              "      <td>...</td>\n",
              "      <td>...</td>\n",
              "      <td>...</td>\n",
              "      <td>...</td>\n",
              "      <td>...</td>\n",
              "      <td>...</td>\n",
              "      <td>...</td>\n",
              "      <td>...</td>\n",
              "      <td>...</td>\n",
              "      <td>...</td>\n",
              "      <td>...</td>\n",
              "      <td>...</td>\n",
              "      <td>...</td>\n",
              "    </tr>\n",
              "    <tr>\n",
              "      <th>39876</th>\n",
              "      <td>98.0</td>\n",
              "      <td>0.0</td>\n",
              "      <td>1.000000</td>\n",
              "      <td>0.940000</td>\n",
              "      <td>False</td>\n",
              "      <td>True</td>\n",
              "      <td>True</td>\n",
              "      <td>33</td>\n",
              "      <td>4</td>\n",
              "      <td>4.970000</td>\n",
              "      <td>4.880000</td>\n",
              "      <td>4.970000</td>\n",
              "      <td>5.000000</td>\n",
              "      <td>4.88000</td>\n",
              "      <td>0</td>\n",
              "      <td>1.22</td>\n",
              "      <td>True</td>\n",
              "      <td>True</td>\n",
              "    </tr>\n",
              "    <tr>\n",
              "      <th>39877</th>\n",
              "      <td>86.0</td>\n",
              "      <td>0.0</td>\n",
              "      <td>1.000000</td>\n",
              "      <td>0.960000</td>\n",
              "      <td>True</td>\n",
              "      <td>True</td>\n",
              "      <td>True</td>\n",
              "      <td>52</td>\n",
              "      <td>2</td>\n",
              "      <td>4.920000</td>\n",
              "      <td>4.750000</td>\n",
              "      <td>5.000000</td>\n",
              "      <td>4.960000</td>\n",
              "      <td>4.85000</td>\n",
              "      <td>0</td>\n",
              "      <td>2.12</td>\n",
              "      <td>True</td>\n",
              "      <td>True</td>\n",
              "    </tr>\n",
              "    <tr>\n",
              "      <th>39878</th>\n",
              "      <td>26.0</td>\n",
              "      <td>0.0</td>\n",
              "      <td>1.000000</td>\n",
              "      <td>0.710000</td>\n",
              "      <td>False</td>\n",
              "      <td>True</td>\n",
              "      <td>True</td>\n",
              "      <td>11</td>\n",
              "      <td>1</td>\n",
              "      <td>4.640000</td>\n",
              "      <td>4.270000</td>\n",
              "      <td>4.640000</td>\n",
              "      <td>4.360000</td>\n",
              "      <td>4.55000</td>\n",
              "      <td>0</td>\n",
              "      <td>0.50</td>\n",
              "      <td>False</td>\n",
              "      <td>True</td>\n",
              "    </tr>\n",
              "    <tr>\n",
              "      <th>39879</th>\n",
              "      <td>63.0</td>\n",
              "      <td>4.0</td>\n",
              "      <td>0.937301</td>\n",
              "      <td>0.824261</td>\n",
              "      <td>False</td>\n",
              "      <td>True</td>\n",
              "      <td>True</td>\n",
              "      <td>0</td>\n",
              "      <td>0</td>\n",
              "      <td>4.751651</td>\n",
              "      <td>4.632422</td>\n",
              "      <td>4.815942</td>\n",
              "      <td>4.810256</td>\n",
              "      <td>4.65181</td>\n",
              "      <td>0</td>\n",
              "      <td>0.00</td>\n",
              "      <td>True</td>\n",
              "      <td>False</td>\n",
              "    </tr>\n",
              "    <tr>\n",
              "      <th>39880</th>\n",
              "      <td>158.0</td>\n",
              "      <td>1.0</td>\n",
              "      <td>1.000000</td>\n",
              "      <td>0.460000</td>\n",
              "      <td>False</td>\n",
              "      <td>True</td>\n",
              "      <td>True</td>\n",
              "      <td>15</td>\n",
              "      <td>0</td>\n",
              "      <td>4.730000</td>\n",
              "      <td>4.530000</td>\n",
              "      <td>4.670000</td>\n",
              "      <td>4.730000</td>\n",
              "      <td>4.47000</td>\n",
              "      <td>1</td>\n",
              "      <td>0.91</td>\n",
              "      <td>False</td>\n",
              "      <td>True</td>\n",
              "    </tr>\n",
              "  </tbody>\n",
              "</table>\n",
              "<p>39560 rows × 18 columns</p>\n",
              "</div>\n",
              "      <button class=\"colab-df-convert\" onclick=\"convertToInteractive('df-6c715715-a3b8-4e37-85c0-b8e27b077a9a')\"\n",
              "              title=\"Convert this dataframe to an interactive table.\"\n",
              "              style=\"display:none;\">\n",
              "        \n",
              "  <svg xmlns=\"http://www.w3.org/2000/svg\" height=\"24px\"viewBox=\"0 0 24 24\"\n",
              "       width=\"24px\">\n",
              "    <path d=\"M0 0h24v24H0V0z\" fill=\"none\"/>\n",
              "    <path d=\"M18.56 5.44l.94 2.06.94-2.06 2.06-.94-2.06-.94-.94-2.06-.94 2.06-2.06.94zm-11 1L8.5 8.5l.94-2.06 2.06-.94-2.06-.94L8.5 2.5l-.94 2.06-2.06.94zm10 10l.94 2.06.94-2.06 2.06-.94-2.06-.94-.94-2.06-.94 2.06-2.06.94z\"/><path d=\"M17.41 7.96l-1.37-1.37c-.4-.4-.92-.59-1.43-.59-.52 0-1.04.2-1.43.59L10.3 9.45l-7.72 7.72c-.78.78-.78 2.05 0 2.83L4 21.41c.39.39.9.59 1.41.59.51 0 1.02-.2 1.41-.59l7.78-7.78 2.81-2.81c.8-.78.8-2.07 0-2.86zM5.41 20L4 18.59l7.72-7.72 1.47 1.35L5.41 20z\"/>\n",
              "  </svg>\n",
              "      </button>\n",
              "      \n",
              "  <style>\n",
              "    .colab-df-container {\n",
              "      display:flex;\n",
              "      flex-wrap:wrap;\n",
              "      gap: 12px;\n",
              "    }\n",
              "\n",
              "    .colab-df-convert {\n",
              "      background-color: #E8F0FE;\n",
              "      border: none;\n",
              "      border-radius: 50%;\n",
              "      cursor: pointer;\n",
              "      display: none;\n",
              "      fill: #1967D2;\n",
              "      height: 32px;\n",
              "      padding: 0 0 0 0;\n",
              "      width: 32px;\n",
              "    }\n",
              "\n",
              "    .colab-df-convert:hover {\n",
              "      background-color: #E2EBFA;\n",
              "      box-shadow: 0px 1px 2px rgba(60, 64, 67, 0.3), 0px 1px 3px 1px rgba(60, 64, 67, 0.15);\n",
              "      fill: #174EA6;\n",
              "    }\n",
              "\n",
              "    [theme=dark] .colab-df-convert {\n",
              "      background-color: #3B4455;\n",
              "      fill: #D2E3FC;\n",
              "    }\n",
              "\n",
              "    [theme=dark] .colab-df-convert:hover {\n",
              "      background-color: #434B5C;\n",
              "      box-shadow: 0px 1px 3px 1px rgba(0, 0, 0, 0.15);\n",
              "      filter: drop-shadow(0px 1px 2px rgba(0, 0, 0, 0.3));\n",
              "      fill: #FFFFFF;\n",
              "    }\n",
              "  </style>\n",
              "\n",
              "      <script>\n",
              "        const buttonEl =\n",
              "          document.querySelector('#df-6c715715-a3b8-4e37-85c0-b8e27b077a9a button.colab-df-convert');\n",
              "        buttonEl.style.display =\n",
              "          google.colab.kernel.accessAllowed ? 'block' : 'none';\n",
              "\n",
              "        async function convertToInteractive(key) {\n",
              "          const element = document.querySelector('#df-6c715715-a3b8-4e37-85c0-b8e27b077a9a');\n",
              "          const dataTable =\n",
              "            await google.colab.kernel.invokeFunction('convertToInteractive',\n",
              "                                                     [key], {});\n",
              "          if (!dataTable) return;\n",
              "\n",
              "          const docLinkHtml = 'Like what you see? Visit the ' +\n",
              "            '<a target=\"_blank\" href=https://colab.research.google.com/notebooks/data_table.ipynb>data table notebook</a>'\n",
              "            + ' to learn more about interactive tables.';\n",
              "          element.innerHTML = '';\n",
              "          dataTable['output_type'] = 'display_data';\n",
              "          await google.colab.output.renderOutput(dataTable, element);\n",
              "          const docLink = document.createElement('div');\n",
              "          docLink.innerHTML = docLinkHtml;\n",
              "          element.appendChild(docLink);\n",
              "        }\n",
              "      </script>\n",
              "    </div>\n",
              "  </div>\n",
              "  "
            ]
          },
          "metadata": {},
          "execution_count": 60
        }
      ]
    },
    {
      "cell_type": "markdown",
      "source": [
        "# 4. scaling"
      ],
      "metadata": {
        "id": "Girai307jICb"
      }
    },
    {
      "cell_type": "code",
      "source": [
        "data.isnull().sum()"
      ],
      "metadata": {
        "colab": {
          "base_uri": "https://localhost:8080/"
        },
        "id": "XNXlDadaHIfn",
        "outputId": "6b1ce56e-cc8c-4a9c-b63d-d6c00eebff94"
      },
      "execution_count": null,
      "outputs": [
        {
          "output_type": "execute_result",
          "data": {
            "text/plain": [
              "host_since                                      0\n",
              "host_response_time                              0\n",
              "host_response_rate                              0\n",
              "host_acceptance_rate                            0\n",
              "host_is_superhost                               0\n",
              "host_has_profile_pic                            0\n",
              "host_identity_verified                          0\n",
              "number_of_reviews                               0\n",
              "number_of_reviews_l30d                          0\n",
              "review_scores_accuracy                          0\n",
              "review_scores_cleanliness                       0\n",
              "review_scores_checkin                           0\n",
              "review_scores_communication                     0\n",
              "review_scores_value                             0\n",
              "calculated_host_listings_count_private_rooms    0\n",
              "reviews_per_month                               0\n",
              "host_loc_nyc                                    0\n",
              "short_term                                      0\n",
              "dtype: int64"
            ]
          },
          "metadata": {},
          "execution_count": 61
        }
      ]
    },
    {
      "cell_type": "code",
      "source": [
        "data_y=data[\"host_is_superhost\"]\n",
        "data=data.drop(columns=['host_is_superhost'])"
      ],
      "metadata": {
        "id": "O1jh2YWJFl7_"
      },
      "execution_count": null,
      "outputs": []
    },
    {
      "cell_type": "code",
      "source": [
        "data"
      ],
      "metadata": {
        "colab": {
          "base_uri": "https://localhost:8080/"
        },
        "id": "jywMwIZOWFZk",
        "outputId": "e5f6a104-6f61-4a70-cfdf-a2e514598486"
      },
      "execution_count": null,
      "outputs": [
        {
          "output_type": "execute_result",
          "data": {
            "text/plain": [
              "       host_since  host_response_time  host_response_rate  \\\n",
              "0           171.0                 0.0            1.000000   \n",
              "1           171.0                 2.0            0.750000   \n",
              "3           148.0                 0.0            1.000000   \n",
              "4           167.0                 4.0            0.937301   \n",
              "5           148.0                 4.0            0.937301   \n",
              "...           ...                 ...                 ...   \n",
              "39876        98.0                 0.0            1.000000   \n",
              "39877        86.0                 0.0            1.000000   \n",
              "39878        26.0                 0.0            1.000000   \n",
              "39879        63.0                 4.0            0.937301   \n",
              "39880       158.0                 1.0            1.000000   \n",
              "\n",
              "       host_acceptance_rate  host_has_profile_pic  host_identity_verified  \\\n",
              "0                  0.900000                  True                    True   \n",
              "1                  0.230000                  True                    True   \n",
              "3                  0.190000                  True                    True   \n",
              "4                  0.330000                  True                    True   \n",
              "5                  0.824261                  True                   False   \n",
              "...                     ...                   ...                     ...   \n",
              "39876              0.940000                  True                    True   \n",
              "39877              0.960000                  True                    True   \n",
              "39878              0.710000                  True                    True   \n",
              "39879              0.824261                  True                    True   \n",
              "39880              0.460000                  True                    True   \n",
              "\n",
              "       number_of_reviews  number_of_reviews_l30d  review_scores_accuracy  \\\n",
              "0                      9                       0                4.880000   \n",
              "1                     49                       0                4.730000   \n",
              "3                     13                       0                4.640000   \n",
              "4                      3                       1                5.000000   \n",
              "5                      0                       0                4.751651   \n",
              "...                  ...                     ...                     ...   \n",
              "39876                 33                       4                4.970000   \n",
              "39877                 52                       2                4.920000   \n",
              "39878                 11                       1                4.640000   \n",
              "39879                  0                       0                4.751651   \n",
              "39880                 15                       0                4.730000   \n",
              "\n",
              "       review_scores_cleanliness  review_scores_checkin  \\\n",
              "0                       5.000000               5.000000   \n",
              "1                       4.630000               4.770000   \n",
              "3                       4.360000               4.820000   \n",
              "4                       5.000000               5.000000   \n",
              "5                       4.632422               4.815942   \n",
              "...                          ...                    ...   \n",
              "39876                   4.880000               4.970000   \n",
              "39877                   4.750000               5.000000   \n",
              "39878                   4.270000               4.640000   \n",
              "39879                   4.632422               4.815942   \n",
              "39880                   4.530000               4.670000   \n",
              "\n",
              "       review_scores_communication  review_scores_value  \\\n",
              "0                         5.000000              4.88000   \n",
              "1                         4.800000              4.40000   \n",
              "3                         5.000000              4.55000   \n",
              "4                         5.000000              5.00000   \n",
              "5                         4.810256              4.65181   \n",
              "...                            ...                  ...   \n",
              "39876                     5.000000              4.88000   \n",
              "39877                     4.960000              4.85000   \n",
              "39878                     4.360000              4.55000   \n",
              "39879                     4.810256              4.65181   \n",
              "39880                     4.730000              4.47000   \n",
              "\n",
              "       calculated_host_listings_count_private_rooms  reviews_per_month  \\\n",
              "0                                                 6               0.11   \n",
              "1                                                 0               0.31   \n",
              "3                                                 0               0.10   \n",
              "4                                                 0               0.03   \n",
              "5                                                 1               0.00   \n",
              "...                                             ...                ...   \n",
              "39876                                             0               1.22   \n",
              "39877                                             0               2.12   \n",
              "39878                                             0               0.50   \n",
              "39879                                             0               0.00   \n",
              "39880                                             1               0.91   \n",
              "\n",
              "       host_loc_nyc  short_term  \n",
              "0              True       False  \n",
              "1              True       False  \n",
              "3              True       False  \n",
              "4              True       False  \n",
              "5             False       False  \n",
              "...             ...         ...  \n",
              "39876          True        True  \n",
              "39877          True        True  \n",
              "39878         False        True  \n",
              "39879          True       False  \n",
              "39880         False        True  \n",
              "\n",
              "[39560 rows x 17 columns]"
            ],
            "text/html": [
              "\n",
              "  <div id=\"df-a8750525-aa67-4214-8bb8-ee47f9bb6e9a\">\n",
              "    <div class=\"colab-df-container\">\n",
              "      <div>\n",
              "<style scoped>\n",
              "    .dataframe tbody tr th:only-of-type {\n",
              "        vertical-align: middle;\n",
              "    }\n",
              "\n",
              "    .dataframe tbody tr th {\n",
              "        vertical-align: top;\n",
              "    }\n",
              "\n",
              "    .dataframe thead th {\n",
              "        text-align: right;\n",
              "    }\n",
              "</style>\n",
              "<table border=\"1\" class=\"dataframe\">\n",
              "  <thead>\n",
              "    <tr style=\"text-align: right;\">\n",
              "      <th></th>\n",
              "      <th>host_since</th>\n",
              "      <th>host_response_time</th>\n",
              "      <th>host_response_rate</th>\n",
              "      <th>host_acceptance_rate</th>\n",
              "      <th>host_has_profile_pic</th>\n",
              "      <th>host_identity_verified</th>\n",
              "      <th>number_of_reviews</th>\n",
              "      <th>number_of_reviews_l30d</th>\n",
              "      <th>review_scores_accuracy</th>\n",
              "      <th>review_scores_cleanliness</th>\n",
              "      <th>review_scores_checkin</th>\n",
              "      <th>review_scores_communication</th>\n",
              "      <th>review_scores_value</th>\n",
              "      <th>calculated_host_listings_count_private_rooms</th>\n",
              "      <th>reviews_per_month</th>\n",
              "      <th>host_loc_nyc</th>\n",
              "      <th>short_term</th>\n",
              "    </tr>\n",
              "  </thead>\n",
              "  <tbody>\n",
              "    <tr>\n",
              "      <th>0</th>\n",
              "      <td>171.0</td>\n",
              "      <td>0.0</td>\n",
              "      <td>1.000000</td>\n",
              "      <td>0.900000</td>\n",
              "      <td>True</td>\n",
              "      <td>True</td>\n",
              "      <td>9</td>\n",
              "      <td>0</td>\n",
              "      <td>4.880000</td>\n",
              "      <td>5.000000</td>\n",
              "      <td>5.000000</td>\n",
              "      <td>5.000000</td>\n",
              "      <td>4.88000</td>\n",
              "      <td>6</td>\n",
              "      <td>0.11</td>\n",
              "      <td>True</td>\n",
              "      <td>False</td>\n",
              "    </tr>\n",
              "    <tr>\n",
              "      <th>1</th>\n",
              "      <td>171.0</td>\n",
              "      <td>2.0</td>\n",
              "      <td>0.750000</td>\n",
              "      <td>0.230000</td>\n",
              "      <td>True</td>\n",
              "      <td>True</td>\n",
              "      <td>49</td>\n",
              "      <td>0</td>\n",
              "      <td>4.730000</td>\n",
              "      <td>4.630000</td>\n",
              "      <td>4.770000</td>\n",
              "      <td>4.800000</td>\n",
              "      <td>4.40000</td>\n",
              "      <td>0</td>\n",
              "      <td>0.31</td>\n",
              "      <td>True</td>\n",
              "      <td>False</td>\n",
              "    </tr>\n",
              "    <tr>\n",
              "      <th>3</th>\n",
              "      <td>148.0</td>\n",
              "      <td>0.0</td>\n",
              "      <td>1.000000</td>\n",
              "      <td>0.190000</td>\n",
              "      <td>True</td>\n",
              "      <td>True</td>\n",
              "      <td>13</td>\n",
              "      <td>0</td>\n",
              "      <td>4.640000</td>\n",
              "      <td>4.360000</td>\n",
              "      <td>4.820000</td>\n",
              "      <td>5.000000</td>\n",
              "      <td>4.55000</td>\n",
              "      <td>0</td>\n",
              "      <td>0.10</td>\n",
              "      <td>True</td>\n",
              "      <td>False</td>\n",
              "    </tr>\n",
              "    <tr>\n",
              "      <th>4</th>\n",
              "      <td>167.0</td>\n",
              "      <td>4.0</td>\n",
              "      <td>0.937301</td>\n",
              "      <td>0.330000</td>\n",
              "      <td>True</td>\n",
              "      <td>True</td>\n",
              "      <td>3</td>\n",
              "      <td>1</td>\n",
              "      <td>5.000000</td>\n",
              "      <td>5.000000</td>\n",
              "      <td>5.000000</td>\n",
              "      <td>5.000000</td>\n",
              "      <td>5.00000</td>\n",
              "      <td>0</td>\n",
              "      <td>0.03</td>\n",
              "      <td>True</td>\n",
              "      <td>False</td>\n",
              "    </tr>\n",
              "    <tr>\n",
              "      <th>5</th>\n",
              "      <td>148.0</td>\n",
              "      <td>4.0</td>\n",
              "      <td>0.937301</td>\n",
              "      <td>0.824261</td>\n",
              "      <td>True</td>\n",
              "      <td>False</td>\n",
              "      <td>0</td>\n",
              "      <td>0</td>\n",
              "      <td>4.751651</td>\n",
              "      <td>4.632422</td>\n",
              "      <td>4.815942</td>\n",
              "      <td>4.810256</td>\n",
              "      <td>4.65181</td>\n",
              "      <td>1</td>\n",
              "      <td>0.00</td>\n",
              "      <td>False</td>\n",
              "      <td>False</td>\n",
              "    </tr>\n",
              "    <tr>\n",
              "      <th>...</th>\n",
              "      <td>...</td>\n",
              "      <td>...</td>\n",
              "      <td>...</td>\n",
              "      <td>...</td>\n",
              "      <td>...</td>\n",
              "      <td>...</td>\n",
              "      <td>...</td>\n",
              "      <td>...</td>\n",
              "      <td>...</td>\n",
              "      <td>...</td>\n",
              "      <td>...</td>\n",
              "      <td>...</td>\n",
              "      <td>...</td>\n",
              "      <td>...</td>\n",
              "      <td>...</td>\n",
              "      <td>...</td>\n",
              "      <td>...</td>\n",
              "    </tr>\n",
              "    <tr>\n",
              "      <th>39876</th>\n",
              "      <td>98.0</td>\n",
              "      <td>0.0</td>\n",
              "      <td>1.000000</td>\n",
              "      <td>0.940000</td>\n",
              "      <td>True</td>\n",
              "      <td>True</td>\n",
              "      <td>33</td>\n",
              "      <td>4</td>\n",
              "      <td>4.970000</td>\n",
              "      <td>4.880000</td>\n",
              "      <td>4.970000</td>\n",
              "      <td>5.000000</td>\n",
              "      <td>4.88000</td>\n",
              "      <td>0</td>\n",
              "      <td>1.22</td>\n",
              "      <td>True</td>\n",
              "      <td>True</td>\n",
              "    </tr>\n",
              "    <tr>\n",
              "      <th>39877</th>\n",
              "      <td>86.0</td>\n",
              "      <td>0.0</td>\n",
              "      <td>1.000000</td>\n",
              "      <td>0.960000</td>\n",
              "      <td>True</td>\n",
              "      <td>True</td>\n",
              "      <td>52</td>\n",
              "      <td>2</td>\n",
              "      <td>4.920000</td>\n",
              "      <td>4.750000</td>\n",
              "      <td>5.000000</td>\n",
              "      <td>4.960000</td>\n",
              "      <td>4.85000</td>\n",
              "      <td>0</td>\n",
              "      <td>2.12</td>\n",
              "      <td>True</td>\n",
              "      <td>True</td>\n",
              "    </tr>\n",
              "    <tr>\n",
              "      <th>39878</th>\n",
              "      <td>26.0</td>\n",
              "      <td>0.0</td>\n",
              "      <td>1.000000</td>\n",
              "      <td>0.710000</td>\n",
              "      <td>True</td>\n",
              "      <td>True</td>\n",
              "      <td>11</td>\n",
              "      <td>1</td>\n",
              "      <td>4.640000</td>\n",
              "      <td>4.270000</td>\n",
              "      <td>4.640000</td>\n",
              "      <td>4.360000</td>\n",
              "      <td>4.55000</td>\n",
              "      <td>0</td>\n",
              "      <td>0.50</td>\n",
              "      <td>False</td>\n",
              "      <td>True</td>\n",
              "    </tr>\n",
              "    <tr>\n",
              "      <th>39879</th>\n",
              "      <td>63.0</td>\n",
              "      <td>4.0</td>\n",
              "      <td>0.937301</td>\n",
              "      <td>0.824261</td>\n",
              "      <td>True</td>\n",
              "      <td>True</td>\n",
              "      <td>0</td>\n",
              "      <td>0</td>\n",
              "      <td>4.751651</td>\n",
              "      <td>4.632422</td>\n",
              "      <td>4.815942</td>\n",
              "      <td>4.810256</td>\n",
              "      <td>4.65181</td>\n",
              "      <td>0</td>\n",
              "      <td>0.00</td>\n",
              "      <td>True</td>\n",
              "      <td>False</td>\n",
              "    </tr>\n",
              "    <tr>\n",
              "      <th>39880</th>\n",
              "      <td>158.0</td>\n",
              "      <td>1.0</td>\n",
              "      <td>1.000000</td>\n",
              "      <td>0.460000</td>\n",
              "      <td>True</td>\n",
              "      <td>True</td>\n",
              "      <td>15</td>\n",
              "      <td>0</td>\n",
              "      <td>4.730000</td>\n",
              "      <td>4.530000</td>\n",
              "      <td>4.670000</td>\n",
              "      <td>4.730000</td>\n",
              "      <td>4.47000</td>\n",
              "      <td>1</td>\n",
              "      <td>0.91</td>\n",
              "      <td>False</td>\n",
              "      <td>True</td>\n",
              "    </tr>\n",
              "  </tbody>\n",
              "</table>\n",
              "<p>39560 rows × 17 columns</p>\n",
              "</div>\n",
              "      <button class=\"colab-df-convert\" onclick=\"convertToInteractive('df-a8750525-aa67-4214-8bb8-ee47f9bb6e9a')\"\n",
              "              title=\"Convert this dataframe to an interactive table.\"\n",
              "              style=\"display:none;\">\n",
              "        \n",
              "  <svg xmlns=\"http://www.w3.org/2000/svg\" height=\"24px\"viewBox=\"0 0 24 24\"\n",
              "       width=\"24px\">\n",
              "    <path d=\"M0 0h24v24H0V0z\" fill=\"none\"/>\n",
              "    <path d=\"M18.56 5.44l.94 2.06.94-2.06 2.06-.94-2.06-.94-.94-2.06-.94 2.06-2.06.94zm-11 1L8.5 8.5l.94-2.06 2.06-.94-2.06-.94L8.5 2.5l-.94 2.06-2.06.94zm10 10l.94 2.06.94-2.06 2.06-.94-2.06-.94-.94-2.06-.94 2.06-2.06.94z\"/><path d=\"M17.41 7.96l-1.37-1.37c-.4-.4-.92-.59-1.43-.59-.52 0-1.04.2-1.43.59L10.3 9.45l-7.72 7.72c-.78.78-.78 2.05 0 2.83L4 21.41c.39.39.9.59 1.41.59.51 0 1.02-.2 1.41-.59l7.78-7.78 2.81-2.81c.8-.78.8-2.07 0-2.86zM5.41 20L4 18.59l7.72-7.72 1.47 1.35L5.41 20z\"/>\n",
              "  </svg>\n",
              "      </button>\n",
              "      \n",
              "  <style>\n",
              "    .colab-df-container {\n",
              "      display:flex;\n",
              "      flex-wrap:wrap;\n",
              "      gap: 12px;\n",
              "    }\n",
              "\n",
              "    .colab-df-convert {\n",
              "      background-color: #E8F0FE;\n",
              "      border: none;\n",
              "      border-radius: 50%;\n",
              "      cursor: pointer;\n",
              "      display: none;\n",
              "      fill: #1967D2;\n",
              "      height: 32px;\n",
              "      padding: 0 0 0 0;\n",
              "      width: 32px;\n",
              "    }\n",
              "\n",
              "    .colab-df-convert:hover {\n",
              "      background-color: #E2EBFA;\n",
              "      box-shadow: 0px 1px 2px rgba(60, 64, 67, 0.3), 0px 1px 3px 1px rgba(60, 64, 67, 0.15);\n",
              "      fill: #174EA6;\n",
              "    }\n",
              "\n",
              "    [theme=dark] .colab-df-convert {\n",
              "      background-color: #3B4455;\n",
              "      fill: #D2E3FC;\n",
              "    }\n",
              "\n",
              "    [theme=dark] .colab-df-convert:hover {\n",
              "      background-color: #434B5C;\n",
              "      box-shadow: 0px 1px 3px 1px rgba(0, 0, 0, 0.15);\n",
              "      filter: drop-shadow(0px 1px 2px rgba(0, 0, 0, 0.3));\n",
              "      fill: #FFFFFF;\n",
              "    }\n",
              "  </style>\n",
              "\n",
              "      <script>\n",
              "        const buttonEl =\n",
              "          document.querySelector('#df-a8750525-aa67-4214-8bb8-ee47f9bb6e9a button.colab-df-convert');\n",
              "        buttonEl.style.display =\n",
              "          google.colab.kernel.accessAllowed ? 'block' : 'none';\n",
              "\n",
              "        async function convertToInteractive(key) {\n",
              "          const element = document.querySelector('#df-a8750525-aa67-4214-8bb8-ee47f9bb6e9a');\n",
              "          const dataTable =\n",
              "            await google.colab.kernel.invokeFunction('convertToInteractive',\n",
              "                                                     [key], {});\n",
              "          if (!dataTable) return;\n",
              "\n",
              "          const docLinkHtml = 'Like what you see? Visit the ' +\n",
              "            '<a target=\"_blank\" href=https://colab.research.google.com/notebooks/data_table.ipynb>data table notebook</a>'\n",
              "            + ' to learn more about interactive tables.';\n",
              "          element.innerHTML = '';\n",
              "          dataTable['output_type'] = 'display_data';\n",
              "          await google.colab.output.renderOutput(dataTable, element);\n",
              "          const docLink = document.createElement('div');\n",
              "          docLink.innerHTML = docLinkHtml;\n",
              "          element.appendChild(docLink);\n",
              "        }\n",
              "      </script>\n",
              "    </div>\n",
              "  </div>\n",
              "  "
            ]
          },
          "metadata": {},
          "execution_count": 63
        }
      ]
    },
    {
      "cell_type": "code",
      "source": [
        "data=data*1\n",
        "data.host_response_time=data.host_response_time.astype(int)\n",
        "data.number_of_reviews=data.number_of_reviews.astype(float)\n",
        "data.number_of_reviews_l30d=data.number_of_reviews_l30d.astype(float)\n",
        "data.calculated_host_listings_count_private_rooms=data.calculated_host_listings_count_private_rooms.astype(float)"
      ],
      "metadata": {
        "id": "oJvcB7ezr-_r"
      },
      "execution_count": null,
      "outputs": []
    },
    {
      "cell_type": "code",
      "source": [
        "dict_col_names={\"object\":[],\"float\":[]}\n",
        "for i in range(len(data.columns)):\n",
        "    ty=data[data.columns[i]].dtypes\n",
        "    if ty==\"int64\":\n",
        "        dict_col_names[\"object\"].append(data.columns[i])\n",
        "    elif ty==\"float64\":\n",
        "        dict_col_names[\"float\"].append(data.columns[i])\n",
        "    else:\n",
        "        print(\"error\")\n",
        "dict_col_names"
      ],
      "metadata": {
        "colab": {
          "base_uri": "https://localhost:8080/"
        },
        "id": "EhO7vqDIsOMe",
        "outputId": "0b6c02cc-7fbe-47a9-95c9-09397da39488"
      },
      "execution_count": null,
      "outputs": [
        {
          "output_type": "execute_result",
          "data": {
            "text/plain": [
              "{'object': ['host_response_time',\n",
              "  'host_has_profile_pic',\n",
              "  'host_identity_verified',\n",
              "  'host_loc_nyc',\n",
              "  'short_term'],\n",
              " 'float': ['host_since',\n",
              "  'host_response_rate',\n",
              "  'host_acceptance_rate',\n",
              "  'number_of_reviews',\n",
              "  'number_of_reviews_l30d',\n",
              "  'review_scores_accuracy',\n",
              "  'review_scores_cleanliness',\n",
              "  'review_scores_checkin',\n",
              "  'review_scores_communication',\n",
              "  'review_scores_value',\n",
              "  'calculated_host_listings_count_private_rooms',\n",
              "  'reviews_per_month']}"
            ]
          },
          "metadata": {},
          "execution_count": 65
        }
      ]
    },
    {
      "cell_type": "code",
      "source": [
        "from sklearn.preprocessing import StandardScaler\n",
        "l_cn_float=dict_col_names[\"float\"]\n",
        "l_cn_object=dict_col_names[\"object\"]\n",
        "data_float=data[l_cn_float]\n",
        "data_object=data[l_cn_object]\n",
        "scaler = StandardScaler()\n",
        "data_float = scaler.fit_transform(data_float)\n",
        "data_object=np.array(data_object)\n",
        "data_scaled=np.concatenate((data_float,data_object),axis=1)"
      ],
      "metadata": {
        "id": "ao8aypMfo-fH"
      },
      "execution_count": null,
      "outputs": []
    },
    {
      "cell_type": "code",
      "source": [
        "data_scaled = np.hstack([np.ones((data_scaled.shape[0], 1)), data_scaled])"
      ],
      "metadata": {
        "id": "kdaLB-Z_WsJ1"
      },
      "execution_count": null,
      "outputs": []
    },
    {
      "cell_type": "code",
      "source": [
        "data_scaled.shape"
      ],
      "metadata": {
        "colab": {
          "base_uri": "https://localhost:8080/"
        },
        "id": "rbC1wImMo-iK",
        "outputId": "8a523f20-3bf2-402a-d133-df952b66c2fe"
      },
      "execution_count": null,
      "outputs": [
        {
          "output_type": "execute_result",
          "data": {
            "text/plain": [
              "(39560, 18)"
            ]
          },
          "metadata": {},
          "execution_count": 68
        }
      ]
    },
    {
      "cell_type": "code",
      "source": [],
      "metadata": {
        "id": "xSPAtFR3b5Np"
      },
      "execution_count": null,
      "outputs": []
    },
    {
      "cell_type": "markdown",
      "source": [
        "# 5. sampling (imbalanced data)"
      ],
      "metadata": {
        "id": "vASEM9jYjJPA"
      }
    },
    {
      "cell_type": "code",
      "source": [
        "# check imbalance\n",
        "count_t= len(data_y[data_y==True])\n",
        "count_f = len(data_y[data_y==False])\n",
        "prob_t = count_t/(count_t+count_f)\n",
        "prob_f = count_f/(count_t+count_f)\n",
        "print('superhost',prob_t)\n",
        "print('not superhost',prob_f)"
      ],
      "metadata": {
        "id": "Fgbd5cZ1jNkk",
        "colab": {
          "base_uri": "https://localhost:8080/"
        },
        "outputId": "337abaa9-7752-4a6e-96b6-366d56b41ac4"
      },
      "execution_count": null,
      "outputs": [
        {
          "output_type": "stream",
          "name": "stdout",
          "text": [
            "superhost 0.20563700707785643\n",
            "not superhost 0.7943629929221436\n"
          ]
        }
      ]
    },
    {
      "cell_type": "markdown",
      "source": [
        "Since the distribution of labels is highly imbalanced, we use stratify sampling by default"
      ],
      "metadata": {
        "id": "jV3KhufBS6A2"
      }
    },
    {
      "cell_type": "code",
      "source": [
        "# stratify sampling\n",
        "from sklearn.model_selection import train_test_split\n",
        "X_dev, X_test, y_dev, y_test = train_test_split(data_scaled, data_y, test_size=0.2, random_state=0,stratify=data_y)\n",
        "X_train, X_val, y_train, y_val = train_test_split(X_dev, y_dev, test_size=0.25, random_state=0,stratify=y_dev)"
      ],
      "metadata": {
        "id": "EhJ3gdOJSuZL"
      },
      "execution_count": null,
      "outputs": []
    },
    {
      "cell_type": "markdown",
      "source": [
        "We also use SMOTE to do the data resampling"
      ],
      "metadata": {
        "id": "G1dtJ0RUU9bo"
      }
    },
    {
      "cell_type": "code",
      "source": [
        "# smote\n",
        "from imblearn.over_sampling import SMOTE\n",
        "smote_data=SMOTE(random_state=42)\n",
        "X_dev_smote, y_dev_smote= smote_data.fit_resample(X_dev,y_dev)"
      ],
      "metadata": {
        "id": "iEVv0cEGUwaN"
      },
      "execution_count": null,
      "outputs": []
    },
    {
      "cell_type": "markdown",
      "source": [
        "# 6. logistic regression"
      ],
      "metadata": {
        "id": "bJC0Q49ASj7h"
      }
    },
    {
      "cell_type": "markdown",
      "source": [
        "## stratify sampling"
      ],
      "metadata": {
        "id": "S1TlYSfhIzYj"
      }
    },
    {
      "cell_type": "markdown",
      "source": [
        "### none penalty"
      ],
      "metadata": {
        "id": "XJl8rNGBQw1L"
      }
    },
    {
      "cell_type": "code",
      "source": [
        "from sklearn.linear_model import LogisticRegression\n",
        "from sklearn.model_selection import cross_validate\n",
        "scores_stratify=cross_validate(LogisticRegression(penalty='none',random_state=0),\n",
        "                      X_train,y_train,cv=5,scoring=[\"roc_auc\",\"average_precision\"],return_estimator=True)\n",
        "print(\"AUC:\\n\",scores_stratify[\"test_roc_auc\"],\"\\nmean:\",scores_stratify[\"test_roc_auc\"].mean())\n",
        "print(\"AP:\\n\",scores_stratify[\"test_average_precision\"],\"\\nmean:\",scores_stratify[\"test_average_precision\"].mean())"
      ],
      "metadata": {
        "colab": {
          "base_uri": "https://localhost:8080/"
        },
        "id": "sWZLQTH7GY9Z",
        "outputId": "7ead480f-2d3f-4310-d875-43145d977c47"
      },
      "execution_count": null,
      "outputs": [
        {
          "output_type": "stream",
          "name": "stdout",
          "text": [
            "AUC:\n",
            " [0.86070146 0.86938309 0.8595567  0.84922413 0.86275953] \n",
            "mean: 0.8603249830881456\n",
            "AP:\n",
            " [0.58464177 0.632785   0.62041748 0.58622785 0.59512361] \n",
            "mean: 0.6038391433696007\n"
          ]
        }
      ]
    },
    {
      "cell_type": "markdown",
      "source": [
        "### l2 penalty"
      ],
      "metadata": {
        "id": "mVWqSHvSQ2I_"
      }
    },
    {
      "cell_type": "code",
      "source": [
        "scores_stratify_l2=cross_validate(LogisticRegression(penalty='l2',random_state=0),\n",
        "                      X_train,y_train,cv=5,scoring=[\"roc_auc\",\"average_precision\"],return_estimator=True)\n",
        "print(\"AUC:\\n\",scores_stratify_l2[\"test_roc_auc\"],\"\\nmean:\",scores_stratify_l2[\"test_roc_auc\"].mean())\n",
        "print(\"AP:\\n\",scores_stratify_l2[\"test_average_precision\"],\"\\nmean:\",scores_stratify_l2[\"test_average_precision\"].mean())"
      ],
      "metadata": {
        "colab": {
          "base_uri": "https://localhost:8080/"
        },
        "id": "GgqadUI4GZIM",
        "outputId": "a9bf87f1-afc4-483b-b30d-a778400ca75c"
      },
      "execution_count": null,
      "outputs": [
        {
          "output_type": "stream",
          "name": "stdout",
          "text": [
            "AUC:\n",
            " [0.86070879 0.86936978 0.85956838 0.84922793 0.86276687] \n",
            "mean: 0.8603283506975321\n",
            "AP:\n",
            " [0.58464081 0.63275372 0.62045351 0.58619462 0.59514364] \n",
            "mean: 0.6038372604990074\n"
          ]
        }
      ]
    },
    {
      "cell_type": "code",
      "source": [
        "def find_best_estimator(test1,test2):\n",
        "    best_test1_i=np.argmax(test1)\n",
        "    best_test2_i=np.argmax(test2)\n",
        "    if best_test2_i==best_test1_i:\n",
        "        return best_test2_i\n",
        "    mean_test1=test1.mean()\n",
        "    mean_test2=test2.mean()\n",
        "    if max(test1)-test1.mean()>=max(test2)-test2.mean():\n",
        "        return best_test1_i\n",
        "    else:\n",
        "        return best_test2_i"
      ],
      "metadata": {
        "id": "hQ-eSAskNY-s"
      },
      "execution_count": null,
      "outputs": []
    },
    {
      "cell_type": "code",
      "source": [
        "from sklearn.metrics import roc_auc_score,average_precision_score,balanced_accuracy_score\n",
        "i=find_best_estimator(scores_stratify_l2[\"test_roc_auc\"],scores_stratify_l2[\"test_average_precision\"])\n",
        "best_model_stratify_l2=scores_stratify_l2['estimator'][i]\n",
        "y_test_pred_stratify_l2=best_model_stratify_l2.predict(X_test)\n",
        "auc_stratify_l2=roc_auc_score(y_test,y_test_pred_stratify_l2)\n",
        "auc_stratify_l2"
      ],
      "metadata": {
        "colab": {
          "base_uri": "https://localhost:8080/"
        },
        "id": "-1eLcK2mNcSM",
        "outputId": "858bd79b-f07b-421f-eb66-764b72567710"
      },
      "execution_count": null,
      "outputs": [
        {
          "output_type": "execute_result",
          "data": {
            "text/plain": [
              "0.6794556262434973"
            ]
          },
          "metadata": {},
          "execution_count": 91
        }
      ]
    },
    {
      "cell_type": "markdown",
      "source": [
        "## SMOTE"
      ],
      "metadata": {
        "id": "ceruTJmQI2gS"
      }
    },
    {
      "cell_type": "code",
      "source": [
        "from imblearn.over_sampling import SMOTE\n",
        "smotesampler=SMOTE(random_state=0)\n",
        "X_dev_smotesampled,y_dev_smotesampled=smotesampler.fit_resample(X_dev,y_dev)"
      ],
      "metadata": {
        "id": "Or9dDmg1JXY9"
      },
      "execution_count": null,
      "outputs": []
    },
    {
      "cell_type": "markdown",
      "source": [
        "### none_penalty"
      ],
      "metadata": {
        "id": "ujJwTnbYYOnK"
      }
    },
    {
      "cell_type": "code",
      "source": [
        "scores_smotesampled=cross_validate(LogisticRegression(penalty='none',random_state=0),\n",
        "                      X_dev_smotesampled,y_dev_smotesampled,cv=5,scoring=[\"roc_auc\",\"average_precision\"],return_estimator=True)\n",
        "print(\"AUC:\\n\",scores_smotesampled[\"test_roc_auc\"],\"\\nmean:\",scores_smotesampled[\"test_roc_auc\"].mean())\n",
        "print(\"AP:\\n\",scores_smotesampled[\"test_average_precision\"],\"\\nmean:\",scores_smotesampled[\"test_average_precision\"].mean())"
      ],
      "metadata": {
        "colab": {
          "base_uri": "https://localhost:8080/"
        },
        "id": "q2I6AwK8TZYg",
        "outputId": "38685d28-d43b-40c8-be2d-436828559fad"
      },
      "execution_count": null,
      "outputs": [
        {
          "output_type": "stream",
          "name": "stdout",
          "text": [
            "AUC:\n",
            " [0.86085633 0.86098718 0.86682078 0.87603691 0.86873065] \n",
            "mean: 0.8666863733339915\n",
            "AP:\n",
            " [0.8420034  0.83238643 0.84345707 0.85763682 0.84467592] \n",
            "mean: 0.8440319297840716\n"
          ]
        }
      ]
    },
    {
      "cell_type": "markdown",
      "source": [
        "### l2 penalty"
      ],
      "metadata": {
        "id": "iYFAbrkOYRIM"
      }
    },
    {
      "cell_type": "code",
      "source": [
        "scores_smotesampled_l2=cross_validate(LogisticRegression(penalty='l2',random_state=0),\n",
        "                      X_dev_smotesampled,y_dev_smotesampled,cv=5,scoring=[\"roc_auc\",\"average_precision\"],return_estimator=True)\n",
        "print(\"AUC:\\n\",scores_smotesampled_l2[\"test_roc_auc\"],\"\\nmean:\",scores_smotesampled_l2[\"test_roc_auc\"].mean())\n",
        "print(\"AP:\\n\",scores_smotesampled_l2[\"test_average_precision\"],\"\\nmean:\",scores_smotesampled_l2[\"test_average_precision\"].mean())"
      ],
      "metadata": {
        "colab": {
          "base_uri": "https://localhost:8080/"
        },
        "id": "HasbDEfWIKET",
        "outputId": "32c7ff03-4c5f-4323-de80-3d08a4845624"
      },
      "execution_count": null,
      "outputs": [
        {
          "output_type": "stream",
          "name": "stdout",
          "text": [
            "AUC:\n",
            " [0.86086223 0.86099541 0.86681916 0.87604308 0.86872856] \n",
            "mean: 0.8666896881046094\n",
            "AP:\n",
            " [0.84200012 0.83238158 0.84345692 0.85763865 0.84467359] \n",
            "mean: 0.8440301706353758\n"
          ]
        }
      ]
    },
    {
      "cell_type": "code",
      "source": [
        "i=find_best_estimator(scores_smotesampled_l2[\"test_roc_auc\"],scores_smotesampled_l2[\"test_average_precision\"])\n",
        "best_model_smotesampled=scores_smotesampled_l2['estimator'][i]\n",
        "y_test_pred_smotesampled=best_model_smotesampled.predict(X_test)\n",
        "auc_smotesampled=roc_auc_score(y_test,y_test_pred_smotesampled)\n",
        "auc_smotesampled"
      ],
      "metadata": {
        "colab": {
          "base_uri": "https://localhost:8080/"
        },
        "id": "Zf_80_aHOqpz",
        "outputId": "d2bcc277-31fe-4dcb-8c5d-6b5b524017ce"
      },
      "execution_count": null,
      "outputs": [
        {
          "output_type": "execute_result",
          "data": {
            "text/plain": [
              "0.7663893750009168"
            ]
          },
          "metadata": {},
          "execution_count": 95
        }
      ]
    },
    {
      "cell_type": "markdown",
      "source": [
        "## balanced model"
      ],
      "metadata": {
        "id": "XpyQDHI1OzWe"
      }
    },
    {
      "cell_type": "markdown",
      "source": [
        "### none penalty"
      ],
      "metadata": {
        "id": "QmmuVNkyYT1B"
      }
    },
    {
      "cell_type": "code",
      "source": [
        "scores_balanced=cross_validate(LogisticRegression(penalty='none',random_state=0,class_weight=\"balanced\"),\n",
        "                      X_dev,y_dev,cv=5,scoring=[\"roc_auc\",\"average_precision\"],return_estimator=True)\n",
        "print(\"AUC:\\n\",scores_balanced[\"test_roc_auc\"],\"\\nmean:\",scores_balanced[\"test_roc_auc\"].mean())\n",
        "print(\"AP:\\n\",scores_balanced[\"test_average_precision\"],\"\\nmean:\",scores_balanced[\"test_average_precision\"].mean())"
      ],
      "metadata": {
        "colab": {
          "base_uri": "https://localhost:8080/"
        },
        "id": "TqdkGJfuRjrs",
        "outputId": "328ac2ac-0503-4890-9f43-b51b309b3051"
      },
      "execution_count": null,
      "outputs": [
        {
          "output_type": "stream",
          "name": "stdout",
          "text": [
            "AUC:\n",
            " [0.86428504 0.85866551 0.8517216  0.86076909 0.86123412] \n",
            "mean: 0.8593350732710686\n",
            "AP:\n",
            " [0.61191552 0.57144059 0.57667178 0.61437332 0.60154185] \n",
            "mean: 0.5951886114115869\n"
          ]
        }
      ]
    },
    {
      "cell_type": "markdown",
      "source": [
        "### l2 penalty"
      ],
      "metadata": {
        "id": "XjL_hZFlYV_A"
      }
    },
    {
      "cell_type": "code",
      "source": [
        "scores_balanced_l2=cross_validate(LogisticRegression(penalty='l2',random_state=0,class_weight=\"balanced\"),\n",
        "                      X_dev,y_dev,cv=5,scoring=[\"roc_auc\",\"average_precision\"],return_estimator=True)\n",
        "print(\"AUC:\\n\",scores_balanced_l2[\"test_roc_auc\"],\"\\nmean:\",scores_balanced_l2[\"test_roc_auc\"].mean())\n",
        "print(\"AP:\\n\",scores_balanced_l2[\"test_average_precision\"],\"\\nmean:\",scores_balanced_l2[\"test_average_precision\"].mean())"
      ],
      "metadata": {
        "colab": {
          "base_uri": "https://localhost:8080/"
        },
        "id": "QAb5l-usO1TH",
        "outputId": "67bd42c6-57b7-4a62-c541-e1a838d914ee"
      },
      "execution_count": null,
      "outputs": [
        {
          "output_type": "stream",
          "name": "stdout",
          "text": [
            "AUC:\n",
            " [0.86429573 0.85866108 0.85172909 0.86077291 0.86123963] \n",
            "mean: 0.8593396878865798\n",
            "AP:\n",
            " [0.61192887 0.57144458 0.5766687  0.61435744 0.60158727] \n",
            "mean: 0.5951973702629957\n"
          ]
        }
      ]
    },
    {
      "cell_type": "code",
      "source": [
        "i=find_best_estimator(scores_balanced_l2[\"test_roc_auc\"],scores_balanced_l2[\"test_average_precision\"])\n",
        "best_model_balanced=scores_balanced_l2['estimator'][i]\n",
        "y_test_pred_balanced=best_model_balanced.predict(X_test)\n",
        "auc_balanced=roc_auc_score(y_test,y_test_pred_balanced)\n",
        "auc_balanced"
      ],
      "metadata": {
        "colab": {
          "base_uri": "https://localhost:8080/"
        },
        "id": "6rxibyB3QTA7",
        "outputId": "8f4d5aef-d820-42c9-adf3-c9366c7b4b4c"
      },
      "execution_count": null,
      "outputs": [
        {
          "output_type": "execute_result",
          "data": {
            "text/plain": [
              "0.7691333938671161"
            ]
          },
          "metadata": {},
          "execution_count": 98
        }
      ]
    },
    {
      "cell_type": "markdown",
      "source": [
        "## score visualization"
      ],
      "metadata": {
        "id": "gGGY8_QXRUF1"
      }
    },
    {
      "cell_type": "code",
      "source": [
        "none_l=[scores_stratify[\"test_roc_auc\"].mean(),scores_smotesampled[\"test_roc_auc\"].mean(),scores_balanced[\"test_roc_auc\"].mean()]\n",
        "l2_l=[scores_stratify_l2[\"test_roc_auc\"].mean(),scores_smotesampled_l2[\"test_roc_auc\"].mean(),scores_balanced_l2[\"test_roc_auc\"].mean()]\n",
        "fig = plt.figure(figsize = (25, 10))\n",
        "x_axis = np.arange(3)\n",
        "plt.bar(x_axis - 0.2, none_l, 0.4, label = 'penalty=none')\n",
        "plt.bar(x_axis + 0.2, l2_l, 0.4, label = 'penalty=l2')\n",
        "plt.xticks(x_axis, [\"Stratify\",\"SMOTE\",\"balanced model\"])\n",
        "plt.xlabel(\"model\")\n",
        "plt.ylabel(\"AUC scores\")\n",
        "plt.ylim(0.858,0.87)\n",
        "plt.legend()\n",
        "plt.show()"
      ],
      "metadata": {
        "colab": {
          "base_uri": "https://localhost:8080/",
          "height": 610
        },
        "id": "1kuuCDTiRWWU",
        "outputId": "3c64f1fa-d0fd-4855-8c31-8b9486998c1a"
      },
      "execution_count": null,
      "outputs": [
        {
          "output_type": "display_data",
          "data": {
            "text/plain": [
              "<Figure size 1800x720 with 1 Axes>"
            ],
            "image/png": "[encoded data removed]"
          },
          "metadata": {
            "needs_background": "light"
          }
        }
      ]
    },
    {
      "cell_type": "markdown",
      "source": [
        "## feature importance"
      ],
      "metadata": {
        "id": "K6iocc6lVM3d"
      }
    },
    {
      "cell_type": "code",
      "source": [
        "importance = best_model_smotesampled.coef_[0]\n",
        "# summarize feature importance\n",
        "# plot feature importance\n",
        "fig = plt.figure(figsize = (50, 4))\n",
        "plt.bar([x for x in range(len(importance))], importance)\n",
        "x=[\"bias\"]+list(data.columns)\n",
        "x_axis = np.arange(len(x))\n",
        "plt.xticks(x_axis, x)\n",
        "plt.show()"
      ],
      "metadata": {
        "colab": {
          "base_uri": "https://localhost:8080/",
          "height": 154
        },
        "id": "CdCpTt3XVRfr",
        "outputId": "ae978c25-861e-4863-8637-d7091efc701c"
      },
      "execution_count": null,
      "outputs": [
        {
          "output_type": "display_data",
          "data": {
            "text/plain": [
              "<Figure size 3600x288 with 1 Axes>"
            ],
            "image/png": "[encoded data removed]"
          },
          "metadata": {
            "needs_background": "light"
          }
        }
      ]
    },
    {
      "cell_type": "code",
      "source": [
        "feature_importance_sk = {}\n",
        "for i, feature in enumerate(x):\n",
        "    feature_importance_sk[feature] = importance[i]\n",
        "print(\"top 3 most important features for this trained model:\",sorted(feature_importance_sk,key=feature_importance_sk.get)[-3:])"
      ],
      "metadata": {
        "colab": {
          "base_uri": "https://localhost:8080/"
        },
        "id": "wUUwhj9dX1p1",
        "outputId": "a54f55b5-d828-4d09-d51f-622a869c1724"
      },
      "execution_count": null,
      "outputs": [
        {
          "output_type": "stream",
          "name": "stdout",
          "text": [
            "top 3 most important features for this trained model: ['host_response_time', 'number_of_reviews', 'calculated_host_listings_count_private_rooms']\n"
          ]
        }
      ]
    },
    {
      "cell_type": "markdown",
      "source": [
        "# 7. Decision Tree"
      ],
      "metadata": {
        "id": "8wcFWQG2lW7T"
      }
    },
    {
      "cell_type": "code",
      "source": [
        "# baseline (using stratify sampling)\n",
        "from sklearn import tree\n",
        "from sklearn.model_selection import cross_validate\n",
        "dt=tree.DecisionTreeClassifier(max_depth=10,random_state=42)\n",
        "dt_stratify_score=cross_validate(dt,\n",
        "                    X_train,\n",
        "                    y_train,\n",
        "                    cv=5,\n",
        "                    scoring=['roc_auc','average_precision'],\n",
        "                    return_estimator=True)\n",
        "print(\"AUC:\\n\", dt_stratify_score['test_roc_auc'],\"\\nmean:\",dt_stratify_score[\"test_roc_auc\"].mean())\n",
        "print(\"AP:\\n\", dt_stratify_score['test_average_precision'],\"\\nmean:\",dt_stratify_score[\"test_average_precision\"].mean())"
      ],
      "metadata": {
        "id": "eVQVRA-yjSmb",
        "colab": {
          "base_uri": "https://localhost:8080/"
        },
        "outputId": "6c6b3709-adb6-4619-c0cf-e181be93778c"
      },
      "execution_count": null,
      "outputs": [
        {
          "output_type": "stream",
          "name": "stdout",
          "text": [
            "AUC:\n",
            " [0.87987855 0.8797086  0.8853683  0.86768495 0.87527374] \n",
            "mean: 0.8775828300312707\n",
            "AP:\n",
            " [0.6209444  0.63833805 0.65974278 0.63023129 0.61295904] \n",
            "mean: 0.6324431138019129\n"
          ]
        }
      ]
    },
    {
      "cell_type": "code",
      "source": [
        "def find_best_estimator(test1,test2):\n",
        "    best_test1_i=np.argmax(test1)\n",
        "    best_test2_i=np.argmax(test2)\n",
        "    if best_test2_i==best_test1_i:\n",
        "        return best_test2_i\n",
        "    mean_test1=test1.mean()\n",
        "    mean_test2=test2.mean()\n",
        "    if max(test1)-test1.mean()>=max(test2)-test2.mean():\n",
        "        return best_test1_i\n",
        "    else:\n",
        "        return best_test2_i\n",
        "\n",
        "from sklearn.metrics import roc_auc_score,average_precision_score,balanced_accuracy_score\n",
        "i=find_best_estimator(dt_stratify_score[\"test_roc_auc\"],dt_stratify_score[\"test_average_precision\"])\n",
        "best_model_dt_stratify=dt_stratify_score['estimator'][i]\n",
        "y_test_pred_dt_stratify=best_model_dt_stratify.predict(X_test)\n",
        "auc_dt_stratify=roc_auc_score(y_test,y_test_pred_dt_stratify)\n",
        "print(\"Decision Tree AUC with stratify sampling:\", auc_dt_stratify)"
      ],
      "metadata": {
        "colab": {
          "base_uri": "https://localhost:8080/"
        },
        "id": "PLgQnNxMwMfL",
        "outputId": "97fdf030-c998-4acb-fdfd-b69141994442"
      },
      "execution_count": null,
      "outputs": [
        {
          "output_type": "stream",
          "name": "stdout",
          "text": [
            "Decision Tree AUC with stratify sampling: 0.7736023321642196\n"
          ]
        }
      ]
    },
    {
      "cell_type": "code",
      "source": [
        "#smote\n",
        "dt=tree.DecisionTreeClassifier(max_depth=10,random_state=42)\n",
        "dt_smote_score=cross_validate(dt,\n",
        "                      X_dev_smote,\n",
        "                      y_dev_smote,\n",
        "                      cv=5,\n",
        "                      scoring=[\"roc_auc\",\"average_precision\"],\n",
        "                      return_estimator=True)\n",
        "print(\"AUC:\\n\",dt_smote_score[\"test_roc_auc\"],\"\\nmean:\",dt_smote_score[\"test_roc_auc\"].mean())\n",
        "print(\"AP:\\n\",dt_smote_score[\"test_average_precision\"],\"\\nmean:\",dt_smote_score[\"test_average_precision\"].mean())"
      ],
      "metadata": {
        "colab": {
          "base_uri": "https://localhost:8080/"
        },
        "id": "xWTuaNKOsDFw",
        "outputId": "760ee73a-ed03-4fc1-ec6d-19d476bb6332"
      },
      "execution_count": null,
      "outputs": [
        {
          "output_type": "stream",
          "name": "stdout",
          "text": [
            "AUC:\n",
            " [0.89388298 0.93275151 0.94272769 0.94668629 0.94499868] \n",
            "mean: 0.9322094283151978\n",
            "AP:\n",
            " [0.87286677 0.91402461 0.92398466 0.92828501 0.92790475] \n",
            "mean: 0.9134131600749675\n"
          ]
        }
      ]
    },
    {
      "cell_type": "code",
      "source": [
        "i=find_best_estimator(dt_smote_score[\"test_roc_auc\"],dt_smote_score[\"test_average_precision\"])\n",
        "best_model_dt_smote=dt_smote_score['estimator'][i]\n",
        "y_test_pred_dt_smote=best_model_dt_smote.predict(X_test)\n",
        "auc_dt_smote=roc_auc_score(y_test,y_test_pred_dt_smote)\n",
        "print(\"Decision Tree AUC with smote resampling:\" , auc_dt_smote)"
      ],
      "metadata": {
        "colab": {
          "base_uri": "https://localhost:8080/"
        },
        "id": "PJdQPJkAwvo0",
        "outputId": "b735a3be-9f53-4ff6-9787-2a78f7aae7b0"
      },
      "execution_count": null,
      "outputs": [
        {
          "output_type": "stream",
          "name": "stdout",
          "text": [
            "Decision Tree AUC with smote resampling: 0.8101403376494214\n"
          ]
        }
      ]
    },
    {
      "cell_type": "code",
      "source": [
        "# balanced class weight\n",
        "dt_cw=tree.DecisionTreeClassifier(max_depth=10,random_state=42, class_weight=\"balanced\")\n",
        "dt_cw_score=cross_validate(dt_cw,\n",
        "                    X_dev,\n",
        "                     y_dev,\n",
        "                     cv=5,\n",
        "                     scoring=[\"roc_auc\",\"average_precision\",\"accuracy\"],\n",
        "                     return_estimator=True)\n",
        "print(\"AUC:\\n\",dt_cw_score[\"test_roc_auc\"],\"\\nmean:\",dt_cw_score[\"test_roc_auc\"].mean())\n",
        "print(\"AP:\\n\",dt_cw_score[\"test_average_precision\"],\"\\nmean:\",dt_cw_score[\"test_average_precision\"].mean())\n"
      ],
      "metadata": {
        "colab": {
          "base_uri": "https://localhost:8080/"
        },
        "id": "W4xZ3_YStAYE",
        "outputId": "e3c23ab2-da81-4912-d334-9bbdd321c895"
      },
      "execution_count": null,
      "outputs": [
        {
          "output_type": "stream",
          "name": "stdout",
          "text": [
            "AUC:\n",
            " [0.89165619 0.88536546 0.889971   0.88454998 0.88924697] \n",
            "mean: 0.8881579178424988\n",
            "AP:\n",
            " [0.66780761 0.653628   0.66680981 0.68429633 0.67637975] \n",
            "mean: 0.6697842998344312\n"
          ]
        }
      ]
    },
    {
      "cell_type": "code",
      "source": [
        "i=find_best_estimator(dt_cw_score[\"test_roc_auc\"],dt_cw_score[\"test_average_precision\"])\n",
        "best_model_dt_cw=dt_cw_score['estimator'][i]\n",
        "y_test_pred_dt_cw=best_model_dt_cw.predict(X_test)\n",
        "auc_dt_cw=roc_auc_score(y_test,y_test_pred_dt_cw)\n",
        "print(\"Decision Tree AUC with balanced class weight\", auc_dt_cw)"
      ],
      "metadata": {
        "colab": {
          "base_uri": "https://localhost:8080/"
        },
        "id": "JQnO9LGBxsFx",
        "outputId": "9d239d1f-1a8c-4581-b307-76ce1c734e9e"
      },
      "execution_count": null,
      "outputs": [
        {
          "output_type": "stream",
          "name": "stdout",
          "text": [
            "Decision Tree AUC with balanced class weight 0.8110053155311203\n"
          ]
        }
      ]
    },
    {
      "cell_type": "code",
      "source": [
        "# compare the scores\n",
        "fig = plt.figure(figsize = (10, 5))\n",
        "samplings=[\"Stratify\",\"SMOTE\",\"balanced class weight\"]\n",
        "scores = [auc_dt_stratify,auc_dt_smote,auc_dt_cw]\n",
        "plt.plot(samplings, scores)\n",
        "plt.xlabel('models')\n",
        "plt.ylabel('AUC scores')\n",
        "plt.show()"
      ],
      "metadata": {
        "colab": {
          "base_uri": "https://localhost:8080/",
          "height": 334
        },
        "id": "vK73tbXz6H4a",
        "outputId": "084d30cc-0e2e-461b-b4ae-c60722ea2cc6"
      },
      "execution_count": null,
      "outputs": [
        {
          "output_type": "display_data",
          "data": {
            "text/plain": [
              "<Figure size 720x360 with 1 Axes>"
            ],
            "image/png": "[encoded data removed]"
          },
          "metadata": {
            "needs_background": "light"
          }
        }
      ]
    },
    {
      "cell_type": "markdown",
      "source": [
        "Since the Decision Tree Classifier with SMOTE gives the highest AUC score among the three, we plot the feature importance using the SMOTE model"
      ],
      "metadata": {
        "id": "bb5RI8iWc2wm"
      }
    },
    {
      "cell_type": "code",
      "source": [
        "# plot feature importance\n",
        "import seaborn as sns\n",
        "feature_names=data.columns.tolist()\n",
        "print(len(feature_names))\n",
        "feat_imps=zip(feature_names, best_model_dt_smote.feature_importances_)\n",
        "feats,imps= zip(*(sorted(list(filter(lambda x:x[1]!=0,feat_imps)),key=lambda x:x[1],reverse=True)))\n",
        "\n",
        "ax= sns.barplot(list(feats),list(imps))\n",
        "ax.tick_params(axis='x',rotation=90)"
      ],
      "metadata": {
        "colab": {
          "base_uri": "https://localhost:8080/",
          "height": 555
        },
        "id": "R67eKp0m_Wxy",
        "outputId": "25b0cf48-2b1a-4bcc-c753-33166aa52733"
      },
      "execution_count": null,
      "outputs": [
        {
          "output_type": "stream",
          "name": "stdout",
          "text": [
            "17\n"
          ]
        },
        {
          "output_type": "stream",
          "name": "stderr",
          "text": [
            "/usr/local/lib/python3.8/dist-packages/seaborn/_decorators.py:36: FutureWarning: Pass the following variables as keyword args: x, y. From version 0.12, the only valid positional argument will be `data`, and passing other arguments without an explicit keyword will result in an error or misinterpretation.\n",
            "  warnings.warn(\n"
          ]
        },
        {
          "output_type": "display_data",
          "data": {
            "text/plain": [
              "<Figure size 432x288 with 1 Axes>"
            ],
            "image/png": "[encoded data removed]"
          },
          "metadata": {
            "needs_background": "light"
          }
        }
      ]
    },
    {
      "cell_type": "markdown",
      "source": [
        "As shown above, the top 3 features for Decision Tree Classifier are: \"**host_response_rate**\", \"**num_of reviews**\", \"**host_acceptance_rate**\""
      ],
      "metadata": {
        "id": "o6YpntcacrJO"
      }
    },
    {
      "cell_type": "code",
      "source": [],
      "metadata": {
        "id": "buQ1KIdePi8h"
      },
      "execution_count": null,
      "outputs": []
    },
    {
      "cell_type": "markdown",
      "source": [
        "# 8. Random Forest"
      ],
      "metadata": {
        "id": "T4CHp4CLlghm"
      }
    },
    {
      "cell_type": "code",
      "source": [
        "# baseline (using stratify sampling)\n",
        "from sklearn.ensemble import RandomForestClassifier\n",
        "from sklearn.model_selection import cross_validate\n",
        "rf=RandomForestClassifier()\n",
        "rf_stratify_score=cross_validate(rf,\n",
        "                    X_train,\n",
        "                    y_train,\n",
        "                    cv=5,\n",
        "                    scoring=['roc_auc','average_precision'],\n",
        "                    return_estimator=True)\n",
        "print(\"AUC:\\n\", rf_stratify_score['test_roc_auc'],\"\\nmean:\",rf_stratify_score[\"test_roc_auc\"].mean())\n",
        "print(\"AP:\\n\", rf_stratify_score['test_average_precision'],\"\\nmean:\",rf_stratify_score[\"test_average_precision\"].mean())"
      ],
      "metadata": {
        "colab": {
          "base_uri": "https://localhost:8080/"
        },
        "id": "1MOCUtIEabx6",
        "outputId": "a9ac60cc-bf6b-4e4e-c24a-7799716eba65"
      },
      "execution_count": null,
      "outputs": [
        {
          "output_type": "stream",
          "name": "stdout",
          "text": [
            "AUC:\n",
            " [0.93232806 0.94096584 0.93238534 0.92973257 0.92885443] \n",
            "mean: 0.9328532453718456\n",
            "AP:\n",
            " [0.78188917 0.80717963 0.79341093 0.7775152  0.78145049] \n",
            "mean: 0.7882890827617921\n"
          ]
        }
      ]
    },
    {
      "cell_type": "code",
      "source": [
        "def find_best_estimator(test1,test2):\n",
        "    best_test1_i=np.argmax(test1)\n",
        "    best_test2_i=np.argmax(test2)\n",
        "    if best_test2_i==best_test1_i:\n",
        "        return best_test2_i\n",
        "    mean_test1=test1.mean()\n",
        "    mean_test2=test2.mean()\n",
        "    if max(test1)-test1.mean()>=max(test2)-test2.mean():\n",
        "        return best_test1_i\n",
        "    else:\n",
        "        return best_test2_i\n",
        "\n",
        "from sklearn.metrics import roc_auc_score,average_precision_score,balanced_accuracy_score\n",
        "i=find_best_estimator(rf_stratify_score[\"test_roc_auc\"],rf_stratify_score[\"test_average_precision\"])\n",
        "best_model_rf_stratify=rf_stratify_score['estimator'][i]\n",
        "y_test_pred_rf_stratify=best_model_rf_stratify.predict(X_test)\n",
        "auc_rf_stratify=roc_auc_score(y_test,y_test_pred_rf_stratify)\n",
        "print(\"Random Forest AUC using stratify sampling:\", auc_rf_stratify)"
      ],
      "metadata": {
        "colab": {
          "base_uri": "https://localhost:8080/"
        },
        "id": "r-fpW6z6afqR",
        "outputId": "fefb91a1-d0d0-4c15-b94c-235eda3c8cb8"
      },
      "execution_count": null,
      "outputs": [
        {
          "output_type": "stream",
          "name": "stdout",
          "text": [
            "Random Forest AUC using stratify sampling: 0.7830608579661333\n"
          ]
        }
      ]
    },
    {
      "cell_type": "code",
      "source": [
        "#smote\n",
        "rf_smote_score=cross_validate(rf,\n",
        "                      X_dev_smote,\n",
        "                      y_dev_smote,\n",
        "                      cv=5,\n",
        "                      scoring=[\"roc_auc\",\"average_precision\"],\n",
        "                      return_estimator=True)\n",
        "print(\"AUC:\\n\",rf_smote_score[\"test_roc_auc\"],\"\\nmean:\",rf_smote_score[\"test_roc_auc\"].mean())\n",
        "print(\"AP:\\n\",rf_smote_score[\"test_average_precision\"],\"\\nmean:\",rf_smote_score[\"test_average_precision\"].mean())"
      ],
      "metadata": {
        "colab": {
          "base_uri": "https://localhost:8080/"
        },
        "id": "Lu0_u6-4cyW3",
        "outputId": "dd6e7830-d400-4caf-9753-ef0fc0ec470e"
      },
      "execution_count": null,
      "outputs": [
        {
          "output_type": "stream",
          "name": "stdout",
          "text": [
            "AUC:\n",
            " [0.95822812 0.97770376 0.98913343 0.98951757 0.99069378] \n",
            "mean: 0.9810553304043103\n",
            "AP:\n",
            " [0.95191055 0.97570976 0.98662647 0.98777774 0.98973163] \n",
            "mean: 0.9783512313432008\n"
          ]
        }
      ]
    },
    {
      "cell_type": "code",
      "source": [
        "i=find_best_estimator(rf_smote_score[\"test_roc_auc\"],rf_smote_score[\"test_average_precision\"])\n",
        "best_model_rf_smote=rf_smote_score['estimator'][i]\n",
        "y_test_pred_rf_smote=best_model_rf_smote.predict(X_test)\n",
        "auc_rf_smote=roc_auc_score(y_test,y_test_pred_rf_smote)\n",
        "print(\"Random Forest AUC using smote resampling:\" , auc_rf_smote)"
      ],
      "metadata": {
        "colab": {
          "base_uri": "https://localhost:8080/"
        },
        "id": "TSZYkmUxcygW",
        "outputId": "9d47f94a-7a80-45d2-fc08-0e5e806887f4"
      },
      "execution_count": null,
      "outputs": [
        {
          "output_type": "stream",
          "name": "stdout",
          "text": [
            "Random Forest AUC using smote resampling: 0.8386612352510024\n"
          ]
        }
      ]
    },
    {
      "cell_type": "code",
      "source": [
        "# balanced class weight\n",
        "rf_cw=RandomForestClassifier(class_weight=\"balanced\")\n",
        "rf_cw_score=cross_validate(rf_cw,\n",
        "                    X_dev,\n",
        "                     y_dev,\n",
        "                     cv=5,\n",
        "                     scoring=[\"roc_auc\",\"average_precision\",\"accuracy\"],\n",
        "                     return_estimator=True)\n",
        "print(\"AUC:\\n\",rf_cw_score[\"test_roc_auc\"],\"\\nmean:\",rf_cw_score[\"test_roc_auc\"].mean())\n",
        "print(\"AP:\\n\",rf_cw_score[\"test_average_precision\"],\"\\nmean:\",rf_cw_score[\"test_average_precision\"].mean())"
      ],
      "metadata": {
        "colab": {
          "base_uri": "https://localhost:8080/"
        },
        "id": "e3FspFO6fk_k",
        "outputId": "aaf9e9b9-10a0-4aa8-a7e1-a4469a5156a2"
      },
      "execution_count": null,
      "outputs": [
        {
          "output_type": "stream",
          "name": "stdout",
          "text": [
            "AUC:\n",
            " [0.93937185 0.93449081 0.93202498 0.94013593 0.9332126 ] \n",
            "mean: 0.9358472338739432\n",
            "AP:\n",
            " [0.80252462 0.7848066  0.78916    0.80843219 0.79726175] \n",
            "mean: 0.7964370332310633\n"
          ]
        }
      ]
    },
    {
      "cell_type": "code",
      "source": [
        "i=find_best_estimator(rf_cw_score[\"test_roc_auc\"],rf_cw_score[\"test_average_precision\"])\n",
        "best_model_rf_cw=rf_cw_score['estimator'][i]\n",
        "y_test_pred_rf_cw=best_model_rf_cw.predict(X_test)\n",
        "auc_rf_cw=roc_auc_score(y_test,y_test_pred_rf_cw)\n",
        "print(\"Decision Tree AUC using balanced class weight\", auc_rf_cw)"
      ],
      "metadata": {
        "colab": {
          "base_uri": "https://localhost:8080/"
        },
        "id": "lSiLAq4Bfm3p",
        "outputId": "619e33b6-b88b-440f-ccba-8894487bb7fe"
      },
      "execution_count": null,
      "outputs": [
        {
          "output_type": "stream",
          "name": "stdout",
          "text": [
            "Decision Tree AUC using balanced class weight 0.7767445635724515\n"
          ]
        }
      ]
    },
    {
      "cell_type": "code",
      "source": [
        "# compare the scores\n",
        "fig = plt.figure(figsize = (10, 5))\n",
        "samplings=[\"Stratify\",\"SMOTE\",\"balanced class weight\"]\n",
        "scores = [auc_rf_stratify,auc_rf_smote,auc_rf_cw]\n",
        "plt.plot(samplings, scores)\n",
        "plt.xlabel('models')\n",
        "plt.ylabel('AUC scores')\n",
        "plt.show()"
      ],
      "metadata": {
        "colab": {
          "base_uri": "https://localhost:8080/",
          "height": 334
        },
        "id": "oELSE9nQ9M09",
        "outputId": "a0779c6e-acec-4895-90ee-928fdc37a77b"
      },
      "execution_count": null,
      "outputs": [
        {
          "output_type": "display_data",
          "data": {
            "text/plain": [
              "<Figure size 720x360 with 1 Axes>"
            ],
            "image/png": "[encoded data removed]"
          },
          "metadata": {
            "needs_background": "light"
          }
        }
      ]
    },
    {
      "cell_type": "markdown",
      "source": [
        "Since the SMOTE model gives the highest accuracy score, we plot the feature importance of this model"
      ],
      "metadata": {
        "id": "xFh6oCeEeDuF"
      }
    },
    {
      "cell_type": "code",
      "source": [
        "# plot feature importance\n",
        "import seaborn as sns\n",
        "feature_names=data.columns.tolist()\n",
        "print(len(feature_names))\n",
        "feat_imps=zip(feature_names, best_model_rf_smote.feature_importances_)\n",
        "feats,imps= zip(*(sorted(list(filter(lambda x:x[1]!=0,feat_imps)),key=lambda x:x[1],reverse=True)))\n",
        "\n",
        "ax= sns.barplot(list(feats),list(imps))\n",
        "ax.tick_params(axis='x',rotation=90)"
      ],
      "metadata": {
        "colab": {
          "base_uri": "https://localhost:8080/",
          "height": 555
        },
        "id": "p4d1Apnjd-dL",
        "outputId": "500e94c0-e359-4ae6-9f78-0960b2a682f1"
      },
      "execution_count": null,
      "outputs": [
        {
          "output_type": "stream",
          "name": "stdout",
          "text": [
            "17\n"
          ]
        },
        {
          "output_type": "stream",
          "name": "stderr",
          "text": [
            "/usr/local/lib/python3.8/dist-packages/seaborn/_decorators.py:36: FutureWarning: Pass the following variables as keyword args: x, y. From version 0.12, the only valid positional argument will be `data`, and passing other arguments without an explicit keyword will result in an error or misinterpretation.\n",
            "  warnings.warn(\n"
          ]
        },
        {
          "output_type": "display_data",
          "data": {
            "text/plain": [
              "<Figure size 432x288 with 1 Axes>"
            ],
            "image/png": "[encoded data removed]"
          },
          "metadata": {
            "needs_background": "light"
          }
        }
      ]
    },
    {
      "cell_type": "markdown",
      "source": [
        "As shown above, the top 3 features of the random forest model are: \"**host_response_rate**\", \"**host_acceptance_rate**\", \"**host_has_profile_pic**\""
      ],
      "metadata": {
        "id": "eNNdrIq5dyfG"
      }
    },
    {
      "cell_type": "markdown",
      "source": [
        "# 9. Gradient Boosting Trees"
      ],
      "metadata": {
        "id": "4TdGOhvXgX-Q"
      }
    },
    {
      "cell_type": "code",
      "source": [
        "# baseline (using stratify sampling)\n",
        "from sklearn.ensemble import GradientBoostingClassifier\n",
        "from sklearn.model_selection import cross_validate\n",
        "gbc=GradientBoostingClassifier()\n",
        "gbc_stratify_score=cross_validate(gbc,\n",
        "                    X_train,\n",
        "                    y_train,\n",
        "                    cv=5,\n",
        "                    scoring=['roc_auc','average_precision'],\n",
        "                    return_estimator=True)\n",
        "print(\"AUC:\\n\", gbc_stratify_score['test_roc_auc'],\"\\nmean:\",gbc_stratify_score[\"test_roc_auc\"].mean())\n",
        "print(\"AP:\\n\", gbc_stratify_score['test_average_precision'],\"\\nmean:\",gbc_stratify_score[\"test_average_precision\"].mean())"
      ],
      "metadata": {
        "colab": {
          "base_uri": "https://localhost:8080/"
        },
        "id": "dA6TQFGmzwrR",
        "outputId": "7b8295c1-9796-4cf8-fc04-3bd5f96dbf64"
      },
      "execution_count": null,
      "outputs": [
        {
          "output_type": "stream",
          "name": "stdout",
          "text": [
            "AUC:\n",
            " [0.92180575 0.92871559 0.91978038 0.91639578 0.91827705] \n",
            "mean: 0.92099490777993\n",
            "AP:\n",
            " [0.76699181 0.7935591  0.76987308 0.76164032 0.76007428] \n",
            "mean: 0.77042771922353\n"
          ]
        }
      ]
    },
    {
      "cell_type": "code",
      "source": [
        "def find_best_estimator(test1,test2):\n",
        "    best_test1_i=np.argmax(test1)\n",
        "    best_test2_i=np.argmax(test2)\n",
        "    if best_test2_i==best_test1_i:\n",
        "        return best_test2_i\n",
        "    mean_test1=test1.mean()\n",
        "    mean_test2=test2.mean()\n",
        "    if max(test1)-test1.mean()>=max(test2)-test2.mean():\n",
        "        return best_test1_i\n",
        "    else:\n",
        "        return best_test2_i\n",
        "\n",
        "from sklearn.metrics import roc_auc_score,average_precision_score,balanced_accuracy_score\n",
        "i=find_best_estimator(gbc_stratify_score[\"test_roc_auc\"],gbc_stratify_score[\"test_average_precision\"])\n",
        "best_model_gbc_stratify=gbc_stratify_score['estimator'][i]\n",
        "y_test_pred_gbc_stratify=best_model_gbc_stratify.predict(X_test)\n",
        "auc_gbc_stratify=roc_auc_score(y_test,y_test_pred_gbc_stratify)\n",
        "print(\"Gradient Boosting AUC using stratify sampling:\", auc_gbc_stratify)"
      ],
      "metadata": {
        "colab": {
          "base_uri": "https://localhost:8080/"
        },
        "id": "TidLJLzZ0Mmh",
        "outputId": "46a395b7-3432-44fb-afe0-dd6dfb8d0c3e"
      },
      "execution_count": null,
      "outputs": [
        {
          "output_type": "stream",
          "name": "stdout",
          "text": [
            "Gradient Boosting AUC using stratify sampling: 0.7727636116664931\n"
          ]
        }
      ]
    },
    {
      "cell_type": "code",
      "source": [
        "#smote\n",
        "gbc_smote_score=cross_validate(gbc,\n",
        "                      X_dev_smote,\n",
        "                      y_dev_smote,\n",
        "                      cv=5,\n",
        "                      scoring=[\"roc_auc\",\"average_precision\"],\n",
        "                      return_estimator=True)\n",
        "print(\"AUC:\\n\",gbc_smote_score[\"test_roc_auc\"],\"\\nmean:\",gbc_smote_score[\"test_roc_auc\"].mean())\n",
        "print(\"AP:\\n\",gbc_smote_score[\"test_average_precision\"],\"\\nmean:\",gbc_smote_score[\"test_average_precision\"].mean())"
      ],
      "metadata": {
        "colab": {
          "base_uri": "https://localhost:8080/"
        },
        "id": "Paym_2jU0bm0",
        "outputId": "9e255992-5948-43b5-b031-7b91dc3b6601"
      },
      "execution_count": null,
      "outputs": [
        {
          "output_type": "stream",
          "name": "stdout",
          "text": [
            "AUC:\n",
            " [0.91838501 0.95377299 0.9690203  0.97160246 0.9699731 ] \n",
            "mean: 0.9565507739000498\n",
            "AP:\n",
            " [0.90888052 0.95310716 0.96884437 0.97217231 0.9706114 ] \n",
            "mean: 0.9547231541807424\n"
          ]
        }
      ]
    },
    {
      "cell_type": "code",
      "source": [
        "i=find_best_estimator(gbc_smote_score[\"test_roc_auc\"],gbc_smote_score[\"test_average_precision\"])\n",
        "best_model_gbc_smote=gbc_smote_score['estimator'][i]\n",
        "y_test_pred_gbc_smote=best_model_gbc_smote.predict(X_test)\n",
        "auc_gbc_smote=roc_auc_score(y_test,y_test_pred_gbc_smote)\n",
        "print(\"Gradient Boosting AUC with smote resampling:\" , auc_gbc_smote)"
      ],
      "metadata": {
        "colab": {
          "base_uri": "https://localhost:8080/"
        },
        "id": "guN2bj820b0G",
        "outputId": "41c0f646-c07e-4ad1-f5b7-6778af5fa4ae"
      },
      "execution_count": null,
      "outputs": [
        {
          "output_type": "stream",
          "name": "stdout",
          "text": [
            "Gradient Boosting AUC with smote resampling: 0.8225989040353737\n"
          ]
        }
      ]
    },
    {
      "cell_type": "code",
      "source": [
        "# compare the scores\n",
        "fig = plt.figure(figsize = (10, 5))\n",
        "samplings=[\"Stratify\",\"SMOTE\"]\n",
        "scores = [auc_gbc_stratify,auc_gbc_smote]\n",
        "plt.bar(samplings, scores, width = 0.4)\n",
        "plt.xlabel('models')\n",
        "plt.ylabel('AUC scores')\n",
        "plt.show()"
      ],
      "metadata": {
        "colab": {
          "base_uri": "https://localhost:8080/",
          "height": 334
        },
        "id": "pJMbf_QB-Hq6",
        "outputId": "60a3554d-997b-4f69-b6d9-b380111ba507"
      },
      "execution_count": null,
      "outputs": [
        {
          "output_type": "display_data",
          "data": {
            "text/plain": [
              "<Figure size 720x360 with 1 Axes>"
            ],
            "image/png": "[encoded data removed]"
          },
          "metadata": {
            "needs_background": "light"
          }
        }
      ]
    },
    {
      "cell_type": "markdown",
      "source": [
        "Since SMOTE has greater AUC score than the baseline model, we plot the feature importance of the SMOTE model"
      ],
      "metadata": {
        "id": "nSrAWU55mEST"
      }
    },
    {
      "cell_type": "code",
      "source": [
        "# plot feature importance\n",
        "import seaborn as sns\n",
        "feature_names=data.columns.tolist()\n",
        "print(len(feature_names))\n",
        "feat_imps=zip(feature_names, best_model_gbc_smote.feature_importances_)\n",
        "feats,imps= zip(*(sorted(list(filter(lambda x:x[1]!=0,feat_imps)),key=lambda x:x[1],reverse=True)))\n",
        "\n",
        "ax= sns.barplot(list(feats),list(imps))\n",
        "ax.tick_params(axis='x',rotation=90)"
      ],
      "metadata": {
        "colab": {
          "base_uri": "https://localhost:8080/",
          "height": 555
        },
        "id": "bW7uficDmMgj",
        "outputId": "f23645e4-ed86-4e76-b253-ccad681aa46c"
      },
      "execution_count": null,
      "outputs": [
        {
          "output_type": "stream",
          "name": "stdout",
          "text": [
            "17\n"
          ]
        },
        {
          "output_type": "stream",
          "name": "stderr",
          "text": [
            "/usr/local/lib/python3.8/dist-packages/seaborn/_decorators.py:36: FutureWarning: Pass the following variables as keyword args: x, y. From version 0.12, the only valid positional argument will be `data`, and passing other arguments without an explicit keyword will result in an error or misinterpretation.\n",
            "  warnings.warn(\n"
          ]
        },
        {
          "output_type": "display_data",
          "data": {
            "text/plain": [
              "<Figure size 432x288 with 1 Axes>"
            ],
            "image/png": "[encoded data removed]"
          },
          "metadata": {
            "needs_background": "light"
          }
        }
      ]
    },
    {
      "cell_type": "markdown",
      "source": [
        "As shown above, the top 3 features of the Gradient Boosting Tree model using SMOTE resampling are: \"**host_response_rate**\", \"**review_scores_communicatio**n\", \"**host_has_profile_pic**\""
      ],
      "metadata": {
        "id": "5euKWSzvnfdV"
      }
    },
    {
      "cell_type": "markdown",
      "source": [
        "# 10. XGBoost"
      ],
      "metadata": {
        "id": "m5cYLeqx2dLX"
      }
    },
    {
      "cell_type": "code",
      "source": [
        "pip install xgboost"
      ],
      "metadata": {
        "colab": {
          "base_uri": "https://localhost:8080/"
        },
        "id": "16uTGaku2rZ7",
        "outputId": "08a2929c-5e19-4b8c-84d5-de07f490a671"
      },
      "execution_count": null,
      "outputs": [
        {
          "output_type": "stream",
          "name": "stdout",
          "text": [
            "Looking in indexes: https://pypi.org/simple, https://us-python.pkg.dev/colab-wheels/public/simple/\n",
            "Requirement already satisfied: xgboost in /usr/local/lib/python3.8/dist-packages (0.90)\n",
            "Requirement already satisfied: numpy in /usr/local/lib/python3.8/dist-packages (from xgboost) (1.21.6)\n",
            "Requirement already satisfied: scipy in /usr/local/lib/python3.8/dist-packages (from xgboost) (1.7.3)\n"
          ]
        }
      ]
    },
    {
      "cell_type": "code",
      "source": [
        "# baseline (using stratify sampling)\n",
        "import xgboost as xgb\n",
        "from sklearn.model_selection import cross_validate\n",
        "xgbmodel=xgb.XGBClassifier()\n",
        "xgb_stratify_score=cross_validate(xgbmodel,\n",
        "                    X_train,\n",
        "                    y_train,\n",
        "                    cv=5,\n",
        "                    scoring=['roc_auc','average_precision'],\n",
        "                    return_estimator=True)\n",
        "print(\"AUC:\\n\", xgb_stratify_score['test_roc_auc'],\"\\nmean:\",xgb_stratify_score[\"test_roc_auc\"].mean())\n",
        "print(\"AP:\\n\", xgb_stratify_score['test_average_precision'],\"\\nmean:\",xgb_stratify_score[\"test_average_precision\"].mean())"
      ],
      "metadata": {
        "colab": {
          "base_uri": "https://localhost:8080/"
        },
        "id": "VhGLBS_r2veP",
        "outputId": "8e79280c-4097-4d05-c243-e1ca81fb74e2"
      },
      "execution_count": null,
      "outputs": [
        {
          "output_type": "stream",
          "name": "stdout",
          "text": [
            "AUC:\n",
            " [0.92039421 0.92814569 0.91759317 0.91546438 0.91717312] \n",
            "mean: 0.91975411430684\n",
            "AP:\n",
            " [0.7594931  0.78772215 0.76185938 0.75691873 0.75446755] \n",
            "mean: 0.7640921841402158\n"
          ]
        }
      ]
    },
    {
      "cell_type": "code",
      "source": [
        "def find_best_estimator(test1,test2):\n",
        "    best_test1_i=np.argmax(test1)\n",
        "    best_test2_i=np.argmax(test2)\n",
        "    if best_test2_i==best_test1_i:\n",
        "        return best_test2_i\n",
        "    mean_test1=test1.mean()\n",
        "    mean_test2=test2.mean()\n",
        "    if max(test1)-test1.mean()>=max(test2)-test2.mean():\n",
        "        return best_test1_i\n",
        "    else:\n",
        "        return best_test2_i\n",
        "\n",
        "from sklearn.metrics import roc_auc_score,average_precision_score,balanced_accuracy_score\n",
        "i=find_best_estimator(xgb_stratify_score[\"test_roc_auc\"],xgb_stratify_score[\"test_average_precision\"])\n",
        "best_model_xgb_stratify=xgb_stratify_score['estimator'][i]\n",
        "y_test_pred_xgb_stratify=best_model_xgb_stratify.predict(X_test)\n",
        "auc_xgb_stratify=roc_auc_score(y_test,y_test_pred_xgb_stratify)\n",
        "print(\"XGBoost AUC with stratify sampling:\", auc_xgb_stratify)"
      ],
      "metadata": {
        "colab": {
          "base_uri": "https://localhost:8080/"
        },
        "id": "OOC_l-fI4caq",
        "outputId": "75c524cf-88fe-4e89-9ff6-5e72fe52bb45"
      },
      "execution_count": null,
      "outputs": [
        {
          "output_type": "stream",
          "name": "stdout",
          "text": [
            "XGBoost AUC with stratify sampling: 0.7699541693743066\n"
          ]
        }
      ]
    },
    {
      "cell_type": "code",
      "source": [
        "#smote\n",
        "xgb_smote_score=cross_validate(xgbmodel,\n",
        "                      X_dev_smote,\n",
        "                      y_dev_smote,\n",
        "                      cv=5,\n",
        "                      scoring=[\"roc_auc\",\"average_precision\"],\n",
        "                      return_estimator=True)\n",
        "print(\"AUC:\\n\",xgb_smote_score[\"test_roc_auc\"],\"\\nmean:\",xgb_smote_score[\"test_roc_auc\"].mean())\n",
        "print(\"AP:\\n\",xgb_smote_score[\"test_average_precision\"],\"\\nmean:\",xgb_smote_score[\"test_average_precision\"].mean())"
      ],
      "metadata": {
        "colab": {
          "base_uri": "https://localhost:8080/"
        },
        "id": "tJgjKZCV40z0",
        "outputId": "688d8dc9-c3ad-42c5-e19c-244fd32fd36e"
      },
      "execution_count": null,
      "outputs": [
        {
          "output_type": "stream",
          "name": "stdout",
          "text": [
            "AUC:\n",
            " [0.91729127 0.95355215 0.96672014 0.96806725 0.96768004] \n",
            "mean: 0.9546621694960093\n",
            "AP:\n",
            " [0.90684811 0.9530798  0.96681135 0.96844202 0.96822299] \n",
            "mean: 0.9526808534771238\n"
          ]
        }
      ]
    },
    {
      "cell_type": "code",
      "source": [
        "i=find_best_estimator(xgb_smote_score[\"test_roc_auc\"],xgb_smote_score[\"test_average_precision\"])\n",
        "best_model_xgb_smote=gbc_smote_score['estimator'][i]\n",
        "y_test_pred_xgb_smote=best_model_xgb_smote.predict(X_test)\n",
        "auc_xgb_smote=roc_auc_score(y_test,y_test_pred_xgb_smote)\n",
        "print(\"XGBoost AUC with SMOTE:\" , auc_xgb_smote)"
      ],
      "metadata": {
        "colab": {
          "base_uri": "https://localhost:8080/"
        },
        "id": "0l0UfYk841DE",
        "outputId": "e2b456e9-5d63-41b6-fc37-b64787e28955"
      },
      "execution_count": null,
      "outputs": [
        {
          "output_type": "stream",
          "name": "stdout",
          "text": [
            "XGBoost AUC with SMOTE: 0.8225989040353737\n"
          ]
        }
      ]
    },
    {
      "cell_type": "code",
      "source": [
        "# compare the scores\n",
        "fig = plt.figure(figsize = (10, 5))\n",
        "samplings=[\"Stratify\",\"SMOTE\"]\n",
        "scores = [auc_xgb_stratify,auc_xgb_smote]\n",
        "plt.bar(samplings, scores, width = 0.4)\n",
        "plt.xlabel('models')\n",
        "plt.ylabel('auc scores')\n",
        "plt.show()"
      ],
      "metadata": {
        "colab": {
          "base_uri": "https://localhost:8080/",
          "height": 334
        },
        "id": "y4hIjcU8oFYW",
        "outputId": "c804092f-7b3f-4797-84c7-76fb97f75204"
      },
      "execution_count": null,
      "outputs": [
        {
          "output_type": "display_data",
          "data": {
            "text/plain": [
              "<Figure size 720x360 with 1 Axes>"
            ],
            "image/png": "[encoded data removed]"
          },
          "metadata": {
            "needs_background": "light"
          }
        }
      ]
    },
    {
      "cell_type": "markdown",
      "source": [
        "Since SMOTE has greater accuracy score than the baseline model, we plot the feature importance using the SMOTE model"
      ],
      "metadata": {
        "id": "2-vgCmNGoUFM"
      }
    },
    {
      "cell_type": "code",
      "source": [
        "# plot feature importance\n",
        "import seaborn as sns\n",
        "feature_names=data.columns.tolist()\n",
        "print(len(feature_names))\n",
        "feat_imps=zip(feature_names, best_model_xgb_smote.feature_importances_)\n",
        "feats,imps= zip(*(sorted(list(filter(lambda x:x[1]!=0,feat_imps)),key=lambda x:x[1],reverse=True)))\n",
        "\n",
        "ax= sns.barplot(list(feats),list(imps))\n",
        "ax.tick_params(axis='x',rotation=90)"
      ],
      "metadata": {
        "colab": {
          "base_uri": "https://localhost:8080/",
          "height": 555
        },
        "id": "7im8PlWeoFi0",
        "outputId": "602942f5-6dab-4809-8abc-859a9c78779c"
      },
      "execution_count": null,
      "outputs": [
        {
          "output_type": "stream",
          "name": "stdout",
          "text": [
            "17\n"
          ]
        },
        {
          "output_type": "stream",
          "name": "stderr",
          "text": [
            "/usr/local/lib/python3.8/dist-packages/seaborn/_decorators.py:36: FutureWarning: Pass the following variables as keyword args: x, y. From version 0.12, the only valid positional argument will be `data`, and passing other arguments without an explicit keyword will result in an error or misinterpretation.\n",
            "  warnings.warn(\n"
          ]
        },
        {
          "output_type": "display_data",
          "data": {
            "text/plain": [
              "<Figure size 432x288 with 1 Axes>"
            ],
            "image/png": "[encoded data removed]"
          },
          "metadata": {
            "needs_background": "light"
          }
        }
      ]
    },
    {
      "cell_type": "markdown",
      "source": [
        "As shown above, the top 3 features of the XGBoost model using SMOTE resampling are: \"**host_response_rate**\", \"**review_scores_communication**\", **\"host_has_profile_pic**\""
      ],
      "metadata": {
        "id": "_dxzAEG-oihF"
      }
    },
    {
      "cell_type": "markdown",
      "source": [
        "# 11. Visualize result"
      ],
      "metadata": {
        "id": "fR6Qq3ggwTlA"
      }
    },
    {
      "cell_type": "code",
      "source": [
        "best_auc = [round(auc_smotesampled,3), round(auc_dt_smote,3), round(auc_rf_smote,3), round(auc_gbc_smote,3), round(auc_xgb_smote,3) ]\n",
        "models = ['Logistic Regression','Decision Trees','Random Forest','Gradient Boosting','XGBoost']\n",
        "result = zip(models,best_auc)\n",
        "print(list(result))\n",
        "\n",
        "def addlabels(x,y):\n",
        "    for i in range(len(x)):\n",
        "        plt.text(i, y[i], y[i], ha = 'center')\n",
        "\n",
        "fig = plt.figure(figsize = (10, 5))\n",
        "plt.bar(models, best_auc)\n",
        "plt.xlabel('models')\n",
        "plt.ylabel('best auc scores')\n",
        "addlabels(models, best_auc)\n",
        "plt.show()"
      ],
      "metadata": {
        "colab": {
          "base_uri": "https://localhost:8080/",
          "height": 351
        },
        "id": "5spAs9_QwX8L",
        "outputId": "30e892ae-963a-4f74-84e5-7857b979eb91"
      },
      "execution_count": null,
      "outputs": [
        {
          "output_type": "stream",
          "name": "stdout",
          "text": [
            "[('Logistic Regression', 0.766), ('Decision Trees', 0.81), ('Random Forest', 0.839), ('Gradient Boosting', 0.823), ('XGBoost', 0.823)]\n"
          ]
        },
        {
          "output_type": "display_data",
          "data": {
            "text/plain": [
              "<Figure size 720x360 with 1 Axes>"
            ],
            "image/png": "[encoded data removed]"
          },
          "metadata": {
            "needs_background": "light"
          }
        }
      ]
    }
  ]
}